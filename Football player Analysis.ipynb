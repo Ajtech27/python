{
 "cells": [
  {
   "cell_type": "markdown",
   "id": "bd95bd1f-4c40-4858-b5e0-86bf0b422ea1",
   "metadata": {},
   "source": [
    "## FOOTBALL PLAYER ANALYSIS"
   ]
  },
  {
   "cell_type": "markdown",
   "id": "3ed2a245-9214-4cb0-9b93-1116214e2d3b",
   "metadata": {},
   "source": [
    "This project focused on player performance, Team Analysis, Position Analysis, Expected Goals Analysis,Minutes Played, Discipline, Efficiency Analysis, Age and Performance."
   ]
  },
  {
   "cell_type": "markdown",
   "id": "a697eb94-f38f-4763-9f89-72ecaf9bcc02",
   "metadata": {},
   "source": [
    "The dataset Contains the following columns ['Player', 'Team', 'Nation', 'Pos', 'Age', 'MP', 'Starts', 'Min', '90s',\n",
    "       'Gls', 'Ast', 'G-PK', 'PK', 'PKatt', 'CrdY', 'CrdR', 'Gls.1', 'Ast.1',\n",
    "       'G+A', 'G-PK.1', 'G+A-PK', 'xG', 'npxG', 'xA', 'npxG+xA', 'xG.1',\n",
    "       'xA.1', 'xG+xA', 'npxG.1', 'npxG+xA.1']"
   ]
  },
  {
   "cell_type": "markdown",
   "id": "f6dc4c2d-5a44-49bd-aed4-8887f068b1b1",
   "metadata": {},
   "source": [
    "- 'Position' - 'Pos',\n",
    "- 'Age' - 'Age',\n",
    "- 'Matches Played' - 'MP',\n",
    "- 'Starts' - 'Starts',\n",
    "- 'Minutes Played' - 'Min',\n",
    "- '90s Played' - '90s',\n",
    "- 'Goals' - 'Gls',\n",
    "- 'Assists' - 'Ast',\n",
    "- 'Goals - Penalty Kick' - 'G-PK',\n",
    "- 'Penalty Kicks' - 'PK',\n",
    "- 'Penalty Kick Attempts' - 'PKatt',\n",
    "- 'Yellow Cards' - 'CrdY',\n",
    "- 'Red Cards' - 'CrdR',\n",
    "- 'Goals (per 90 minutes)' - 'Gls.1',\n",
    "- 'Assists (per 90 minutes)' - 'Ast.1',\n",
    "- 'Goals + Assists' - 'G+A',\n",
    "- 'Goals - Penalty Kick (per 90 minutes)' - 'G-PK.1',\n",
    "- 'Goals + Assists - Penalty Kick (per 90 minutes)' - 'G+A-PK',\n",
    "- 'Expected Goals' - 'xG',\n",
    "- 'Non-penalty Expected Goals' - 'npxG',\n",
    "- 'Expected Assists' - 'xA',\n",
    "- 'Non-penalty Expected Goals + Expected Assists' - 'npxG+xA',\n",
    "- 'Expected Goals (per 90 minutes)' - 'xG.1',\n",
    "- 'Expected Assists (per 90 minutes)' - 'xA.1',\n",
    "- 'Expected Goals + Expected Assists (per 90 minutes)' - 'xG+xA',\n",
    "- 'Non-penalty Expected Goals (per 90 minutes)' - 'npxG.1',\n",
    "- 'Non-penalty Expected Goals + Expected Assists (per 90 minutes)' - 'npxG+xA.1'\n"
   ]
  },
  {
   "cell_type": "markdown",
   "id": "0fe8da3e-c126-4a50-a863-30c2bab66a89",
   "metadata": {},
   "source": [
    "### Importing the dataset"
   ]
  },
  {
   "cell_type": "code",
   "execution_count": 4,
   "id": "dcae9662-54b3-4326-8947-d0aca32a9948",
   "metadata": {},
   "outputs": [],
   "source": [
    "import numpy as np\n",
    "import pandas as pd\n",
    "import matplotlib.pyplot as plt\n",
    "import seaborn as sns\n",
    "%matplotlib inline"
   ]
  },
  {
   "cell_type": "code",
   "execution_count": 5,
   "id": "79b1dfe9-9576-4978-9413-389a33c776dc",
   "metadata": {},
   "outputs": [
    {
     "data": {
      "text/html": [
       "<div>\n",
       "<style scoped>\n",
       "    .dataframe tbody tr th:only-of-type {\n",
       "        vertical-align: middle;\n",
       "    }\n",
       "\n",
       "    .dataframe tbody tr th {\n",
       "        vertical-align: top;\n",
       "    }\n",
       "\n",
       "    .dataframe thead th {\n",
       "        text-align: right;\n",
       "    }\n",
       "</style>\n",
       "<table border=\"1\" class=\"dataframe\">\n",
       "  <thead>\n",
       "    <tr style=\"text-align: right;\">\n",
       "      <th></th>\n",
       "      <th>Player</th>\n",
       "      <th>Team</th>\n",
       "      <th>Nation</th>\n",
       "      <th>Pos</th>\n",
       "      <th>Age</th>\n",
       "      <th>MP</th>\n",
       "      <th>Starts</th>\n",
       "      <th>Min</th>\n",
       "      <th>90s</th>\n",
       "      <th>Gls</th>\n",
       "      <th>...</th>\n",
       "      <th>G+A-PK</th>\n",
       "      <th>xG</th>\n",
       "      <th>npxG</th>\n",
       "      <th>xA</th>\n",
       "      <th>npxG+xA</th>\n",
       "      <th>xG.1</th>\n",
       "      <th>xA.1</th>\n",
       "      <th>xG+xA</th>\n",
       "      <th>npxG.1</th>\n",
       "      <th>npxG+xA.1</th>\n",
       "    </tr>\n",
       "  </thead>\n",
       "  <tbody>\n",
       "    <tr>\n",
       "      <th>0</th>\n",
       "      <td>Bukayo Saka</td>\n",
       "      <td>Arsenal</td>\n",
       "      <td>eng ENG</td>\n",
       "      <td>FW,MF</td>\n",
       "      <td>19.0</td>\n",
       "      <td>38</td>\n",
       "      <td>36</td>\n",
       "      <td>2,978</td>\n",
       "      <td>33.1</td>\n",
       "      <td>11.0</td>\n",
       "      <td>...</td>\n",
       "      <td>0.48</td>\n",
       "      <td>9.7</td>\n",
       "      <td>8.2</td>\n",
       "      <td>6.9</td>\n",
       "      <td>15.2</td>\n",
       "      <td>0.29</td>\n",
       "      <td>0.21</td>\n",
       "      <td>0.50</td>\n",
       "      <td>0.25</td>\n",
       "      <td>0.46</td>\n",
       "    </tr>\n",
       "    <tr>\n",
       "      <th>1</th>\n",
       "      <td>Gabriel Dos Santos</td>\n",
       "      <td>Arsenal</td>\n",
       "      <td>br BRA</td>\n",
       "      <td>DF</td>\n",
       "      <td>23.0</td>\n",
       "      <td>35</td>\n",
       "      <td>35</td>\n",
       "      <td>3,063</td>\n",
       "      <td>34.0</td>\n",
       "      <td>5.0</td>\n",
       "      <td>...</td>\n",
       "      <td>0.15</td>\n",
       "      <td>2.7</td>\n",
       "      <td>2.7</td>\n",
       "      <td>0.8</td>\n",
       "      <td>3.5</td>\n",
       "      <td>0.08</td>\n",
       "      <td>0.02</td>\n",
       "      <td>0.10</td>\n",
       "      <td>0.08</td>\n",
       "      <td>0.10</td>\n",
       "    </tr>\n",
       "    <tr>\n",
       "      <th>2</th>\n",
       "      <td>Aaron Ramsdale</td>\n",
       "      <td>Arsenal</td>\n",
       "      <td>eng ENG</td>\n",
       "      <td>GK</td>\n",
       "      <td>23.0</td>\n",
       "      <td>34</td>\n",
       "      <td>34</td>\n",
       "      <td>3,060</td>\n",
       "      <td>34.0</td>\n",
       "      <td>0.0</td>\n",
       "      <td>...</td>\n",
       "      <td>0.00</td>\n",
       "      <td>0.0</td>\n",
       "      <td>0.0</td>\n",
       "      <td>0.0</td>\n",
       "      <td>0.0</td>\n",
       "      <td>0.00</td>\n",
       "      <td>0.00</td>\n",
       "      <td>0.00</td>\n",
       "      <td>0.00</td>\n",
       "      <td>0.00</td>\n",
       "    </tr>\n",
       "    <tr>\n",
       "      <th>3</th>\n",
       "      <td>Ben White</td>\n",
       "      <td>Arsenal</td>\n",
       "      <td>eng ENG</td>\n",
       "      <td>DF</td>\n",
       "      <td>23.0</td>\n",
       "      <td>32</td>\n",
       "      <td>32</td>\n",
       "      <td>2,880</td>\n",
       "      <td>32.0</td>\n",
       "      <td>0.0</td>\n",
       "      <td>...</td>\n",
       "      <td>0.00</td>\n",
       "      <td>1.0</td>\n",
       "      <td>1.0</td>\n",
       "      <td>0.6</td>\n",
       "      <td>1.6</td>\n",
       "      <td>0.03</td>\n",
       "      <td>0.02</td>\n",
       "      <td>0.05</td>\n",
       "      <td>0.03</td>\n",
       "      <td>0.05</td>\n",
       "    </tr>\n",
       "    <tr>\n",
       "      <th>4</th>\n",
       "      <td>Martin Ødegaard</td>\n",
       "      <td>Arsenal</td>\n",
       "      <td>no NOR</td>\n",
       "      <td>MF</td>\n",
       "      <td>22.0</td>\n",
       "      <td>36</td>\n",
       "      <td>32</td>\n",
       "      <td>2,785</td>\n",
       "      <td>30.9</td>\n",
       "      <td>7.0</td>\n",
       "      <td>...</td>\n",
       "      <td>0.36</td>\n",
       "      <td>4.8</td>\n",
       "      <td>4.8</td>\n",
       "      <td>6.8</td>\n",
       "      <td>11.6</td>\n",
       "      <td>0.16</td>\n",
       "      <td>0.22</td>\n",
       "      <td>0.38</td>\n",
       "      <td>0.16</td>\n",
       "      <td>0.38</td>\n",
       "    </tr>\n",
       "  </tbody>\n",
       "</table>\n",
       "<p>5 rows × 30 columns</p>\n",
       "</div>"
      ],
      "text/plain": [
       "               Player     Team   Nation    Pos   Age  MP  Starts    Min   90s  \\\n",
       "0         Bukayo Saka  Arsenal  eng ENG  FW,MF  19.0  38      36  2,978  33.1   \n",
       "1  Gabriel Dos Santos  Arsenal   br BRA     DF  23.0  35      35  3,063  34.0   \n",
       "2      Aaron Ramsdale  Arsenal  eng ENG     GK  23.0  34      34  3,060  34.0   \n",
       "3           Ben White  Arsenal  eng ENG     DF  23.0  32      32  2,880  32.0   \n",
       "4     Martin Ødegaard  Arsenal   no NOR     MF  22.0  36      32  2,785  30.9   \n",
       "\n",
       "    Gls  ...  G+A-PK   xG  npxG   xA  npxG+xA  xG.1  xA.1  xG+xA  npxG.1  \\\n",
       "0  11.0  ...    0.48  9.7   8.2  6.9     15.2  0.29  0.21   0.50    0.25   \n",
       "1   5.0  ...    0.15  2.7   2.7  0.8      3.5  0.08  0.02   0.10    0.08   \n",
       "2   0.0  ...    0.00  0.0   0.0  0.0      0.0  0.00  0.00   0.00    0.00   \n",
       "3   0.0  ...    0.00  1.0   1.0  0.6      1.6  0.03  0.02   0.05    0.03   \n",
       "4   7.0  ...    0.36  4.8   4.8  6.8     11.6  0.16  0.22   0.38    0.16   \n",
       "\n",
       "   npxG+xA.1  \n",
       "0       0.46  \n",
       "1       0.10  \n",
       "2       0.00  \n",
       "3       0.05  \n",
       "4       0.38  \n",
       "\n",
       "[5 rows x 30 columns]"
      ]
     },
     "execution_count": 5,
     "metadata": {},
     "output_type": "execute_result"
    }
   ],
   "source": [
    "df = pd.read_csv('Football Players Stats 2.csv')\n",
    "df.head()"
   ]
  },
  {
   "cell_type": "markdown",
   "id": "2cb8d87d-3579-4a36-b13b-af079a2fbad4",
   "metadata": {},
   "source": [
    "The Football dataset has been imported as df"
   ]
  },
  {
   "cell_type": "code",
   "execution_count": 7,
   "id": "cb21a238-b542-4d1d-8095-59f16ca0975a",
   "metadata": {},
   "outputs": [
    {
     "name": "stdout",
     "output_type": "stream",
     "text": [
      "<class 'pandas.core.frame.DataFrame'>\n",
      "RangeIndex: 691 entries, 0 to 690\n",
      "Data columns (total 30 columns):\n",
      " #   Column     Non-Null Count  Dtype  \n",
      "---  ------     --------------  -----  \n",
      " 0   Player     691 non-null    object \n",
      " 1   Team       691 non-null    object \n",
      " 2   Nation     688 non-null    object \n",
      " 3   Pos        691 non-null    object \n",
      " 4   Age        687 non-null    float64\n",
      " 5   MP         691 non-null    int64  \n",
      " 6   Starts     691 non-null    int64  \n",
      " 7   Min        546 non-null    object \n",
      " 8   90s        547 non-null    float64\n",
      " 9   Gls        547 non-null    float64\n",
      " 10  Ast        547 non-null    float64\n",
      " 11  G-PK       547 non-null    float64\n",
      " 12  PK         547 non-null    float64\n",
      " 13  PKatt      547 non-null    float64\n",
      " 14  CrdY       547 non-null    float64\n",
      " 15  CrdR       547 non-null    float64\n",
      " 16  Gls.1      546 non-null    float64\n",
      " 17  Ast.1      546 non-null    float64\n",
      " 18  G+A        546 non-null    float64\n",
      " 19  G-PK.1     546 non-null    float64\n",
      " 20  G+A-PK     546 non-null    float64\n",
      " 21  xG         546 non-null    float64\n",
      " 22  npxG       546 non-null    float64\n",
      " 23  xA         546 non-null    float64\n",
      " 24  npxG+xA    546 non-null    float64\n",
      " 25  xG.1       546 non-null    float64\n",
      " 26  xA.1       546 non-null    float64\n",
      " 27  xG+xA      546 non-null    float64\n",
      " 28  npxG.1     546 non-null    float64\n",
      " 29  npxG+xA.1  546 non-null    float64\n",
      "dtypes: float64(23), int64(2), object(5)\n",
      "memory usage: 162.1+ KB\n"
     ]
    }
   ],
   "source": [
    "df.info()"
   ]
  },
  {
   "cell_type": "code",
   "execution_count": 9,
   "id": "b9263984-d2d2-4507-a9df-a19e22f49920",
   "metadata": {},
   "outputs": [
    {
     "data": {
      "text/html": [
       "<div>\n",
       "<style scoped>\n",
       "    .dataframe tbody tr th:only-of-type {\n",
       "        vertical-align: middle;\n",
       "    }\n",
       "\n",
       "    .dataframe tbody tr th {\n",
       "        vertical-align: top;\n",
       "    }\n",
       "\n",
       "    .dataframe thead th {\n",
       "        text-align: right;\n",
       "    }\n",
       "</style>\n",
       "<table border=\"1\" class=\"dataframe\">\n",
       "  <thead>\n",
       "    <tr style=\"text-align: right;\">\n",
       "      <th></th>\n",
       "      <th>Age</th>\n",
       "      <th>MP</th>\n",
       "      <th>Starts</th>\n",
       "      <th>90s</th>\n",
       "      <th>Gls</th>\n",
       "      <th>Ast</th>\n",
       "      <th>G-PK</th>\n",
       "      <th>PK</th>\n",
       "      <th>PKatt</th>\n",
       "      <th>CrdY</th>\n",
       "      <th>...</th>\n",
       "      <th>G+A-PK</th>\n",
       "      <th>xG</th>\n",
       "      <th>npxG</th>\n",
       "      <th>xA</th>\n",
       "      <th>npxG+xA</th>\n",
       "      <th>xG.1</th>\n",
       "      <th>xA.1</th>\n",
       "      <th>xG+xA</th>\n",
       "      <th>npxG.1</th>\n",
       "      <th>npxG+xA.1</th>\n",
       "    </tr>\n",
       "  </thead>\n",
       "  <tbody>\n",
       "    <tr>\n",
       "      <th>count</th>\n",
       "      <td>687.000000</td>\n",
       "      <td>691.000000</td>\n",
       "      <td>691.000000</td>\n",
       "      <td>547.000000</td>\n",
       "      <td>547.000000</td>\n",
       "      <td>547.000000</td>\n",
       "      <td>547.000000</td>\n",
       "      <td>547.000000</td>\n",
       "      <td>547.000000</td>\n",
       "      <td>547.000000</td>\n",
       "      <td>...</td>\n",
       "      <td>546.000000</td>\n",
       "      <td>546.000000</td>\n",
       "      <td>546.000000</td>\n",
       "      <td>546.000000</td>\n",
       "      <td>546.000000</td>\n",
       "      <td>546.000000</td>\n",
       "      <td>546.000000</td>\n",
       "      <td>546.000000</td>\n",
       "      <td>546.000000</td>\n",
       "      <td>546.000000</td>\n",
       "    </tr>\n",
       "    <tr>\n",
       "      <th>mean</th>\n",
       "      <td>24.490539</td>\n",
       "      <td>15.173661</td>\n",
       "      <td>12.098408</td>\n",
       "      <td>15.255941</td>\n",
       "      <td>1.895795</td>\n",
       "      <td>1.361974</td>\n",
       "      <td>1.742230</td>\n",
       "      <td>0.153565</td>\n",
       "      <td>0.188300</td>\n",
       "      <td>2.451554</td>\n",
       "      <td>...</td>\n",
       "      <td>0.203443</td>\n",
       "      <td>1.928755</td>\n",
       "      <td>1.784982</td>\n",
       "      <td>1.300916</td>\n",
       "      <td>3.088828</td>\n",
       "      <td>0.137216</td>\n",
       "      <td>0.092619</td>\n",
       "      <td>0.230037</td>\n",
       "      <td>0.130147</td>\n",
       "      <td>0.222967</td>\n",
       "    </tr>\n",
       "    <tr>\n",
       "      <th>std</th>\n",
       "      <td>4.900421</td>\n",
       "      <td>12.954948</td>\n",
       "      <td>12.057790</td>\n",
       "      <td>11.260210</td>\n",
       "      <td>3.255050</td>\n",
       "      <td>2.037348</td>\n",
       "      <td>2.934154</td>\n",
       "      <td>0.675447</td>\n",
       "      <td>0.786336</td>\n",
       "      <td>2.563289</td>\n",
       "      <td>...</td>\n",
       "      <td>0.535085</td>\n",
       "      <td>2.982733</td>\n",
       "      <td>2.673862</td>\n",
       "      <td>1.711252</td>\n",
       "      <td>4.055039</td>\n",
       "      <td>0.259142</td>\n",
       "      <td>0.295461</td>\n",
       "      <td>0.405768</td>\n",
       "      <td>0.254656</td>\n",
       "      <td>0.402157</td>\n",
       "    </tr>\n",
       "    <tr>\n",
       "      <th>min</th>\n",
       "      <td>15.000000</td>\n",
       "      <td>0.000000</td>\n",
       "      <td>0.000000</td>\n",
       "      <td>0.000000</td>\n",
       "      <td>0.000000</td>\n",
       "      <td>0.000000</td>\n",
       "      <td>0.000000</td>\n",
       "      <td>0.000000</td>\n",
       "      <td>0.000000</td>\n",
       "      <td>0.000000</td>\n",
       "      <td>...</td>\n",
       "      <td>0.000000</td>\n",
       "      <td>0.000000</td>\n",
       "      <td>0.000000</td>\n",
       "      <td>0.000000</td>\n",
       "      <td>0.000000</td>\n",
       "      <td>0.000000</td>\n",
       "      <td>0.000000</td>\n",
       "      <td>0.000000</td>\n",
       "      <td>0.000000</td>\n",
       "      <td>0.000000</td>\n",
       "    </tr>\n",
       "    <tr>\n",
       "      <th>25%</th>\n",
       "      <td>20.000000</td>\n",
       "      <td>1.000000</td>\n",
       "      <td>0.000000</td>\n",
       "      <td>4.350000</td>\n",
       "      <td>0.000000</td>\n",
       "      <td>0.000000</td>\n",
       "      <td>0.000000</td>\n",
       "      <td>0.000000</td>\n",
       "      <td>0.000000</td>\n",
       "      <td>0.000000</td>\n",
       "      <td>...</td>\n",
       "      <td>0.000000</td>\n",
       "      <td>0.100000</td>\n",
       "      <td>0.100000</td>\n",
       "      <td>0.100000</td>\n",
       "      <td>0.300000</td>\n",
       "      <td>0.020000</td>\n",
       "      <td>0.010000</td>\n",
       "      <td>0.050000</td>\n",
       "      <td>0.012500</td>\n",
       "      <td>0.050000</td>\n",
       "    </tr>\n",
       "    <tr>\n",
       "      <th>50%</th>\n",
       "      <td>24.000000</td>\n",
       "      <td>14.000000</td>\n",
       "      <td>9.000000</td>\n",
       "      <td>14.700000</td>\n",
       "      <td>1.000000</td>\n",
       "      <td>1.000000</td>\n",
       "      <td>1.000000</td>\n",
       "      <td>0.000000</td>\n",
       "      <td>0.000000</td>\n",
       "      <td>2.000000</td>\n",
       "      <td>...</td>\n",
       "      <td>0.100000</td>\n",
       "      <td>0.800000</td>\n",
       "      <td>0.750000</td>\n",
       "      <td>0.650000</td>\n",
       "      <td>1.600000</td>\n",
       "      <td>0.060000</td>\n",
       "      <td>0.060000</td>\n",
       "      <td>0.130000</td>\n",
       "      <td>0.060000</td>\n",
       "      <td>0.130000</td>\n",
       "    </tr>\n",
       "    <tr>\n",
       "      <th>75%</th>\n",
       "      <td>28.000000</td>\n",
       "      <td>28.000000</td>\n",
       "      <td>22.000000</td>\n",
       "      <td>23.900000</td>\n",
       "      <td>2.000000</td>\n",
       "      <td>2.000000</td>\n",
       "      <td>2.000000</td>\n",
       "      <td>0.000000</td>\n",
       "      <td>0.000000</td>\n",
       "      <td>4.000000</td>\n",
       "      <td>...</td>\n",
       "      <td>0.280000</td>\n",
       "      <td>2.500000</td>\n",
       "      <td>2.400000</td>\n",
       "      <td>1.900000</td>\n",
       "      <td>4.300000</td>\n",
       "      <td>0.170000</td>\n",
       "      <td>0.120000</td>\n",
       "      <td>0.330000</td>\n",
       "      <td>0.160000</td>\n",
       "      <td>0.310000</td>\n",
       "    </tr>\n",
       "    <tr>\n",
       "      <th>max</th>\n",
       "      <td>39.000000</td>\n",
       "      <td>38.000000</td>\n",
       "      <td>38.000000</td>\n",
       "      <td>38.000000</td>\n",
       "      <td>23.000000</td>\n",
       "      <td>13.000000</td>\n",
       "      <td>23.000000</td>\n",
       "      <td>6.000000</td>\n",
       "      <td>7.000000</td>\n",
       "      <td>11.000000</td>\n",
       "      <td>...</td>\n",
       "      <td>11.250000</td>\n",
       "      <td>21.800000</td>\n",
       "      <td>17.100000</td>\n",
       "      <td>11.200000</td>\n",
       "      <td>27.400000</td>\n",
       "      <td>4.480000</td>\n",
       "      <td>6.500000</td>\n",
       "      <td>6.500000</td>\n",
       "      <td>4.480000</td>\n",
       "      <td>6.500000</td>\n",
       "    </tr>\n",
       "  </tbody>\n",
       "</table>\n",
       "<p>8 rows × 25 columns</p>\n",
       "</div>"
      ],
      "text/plain": [
       "              Age          MP      Starts         90s         Gls         Ast  \\\n",
       "count  687.000000  691.000000  691.000000  547.000000  547.000000  547.000000   \n",
       "mean    24.490539   15.173661   12.098408   15.255941    1.895795    1.361974   \n",
       "std      4.900421   12.954948   12.057790   11.260210    3.255050    2.037348   \n",
       "min     15.000000    0.000000    0.000000    0.000000    0.000000    0.000000   \n",
       "25%     20.000000    1.000000    0.000000    4.350000    0.000000    0.000000   \n",
       "50%     24.000000   14.000000    9.000000   14.700000    1.000000    1.000000   \n",
       "75%     28.000000   28.000000   22.000000   23.900000    2.000000    2.000000   \n",
       "max     39.000000   38.000000   38.000000   38.000000   23.000000   13.000000   \n",
       "\n",
       "             G-PK          PK       PKatt        CrdY  ...      G+A-PK  \\\n",
       "count  547.000000  547.000000  547.000000  547.000000  ...  546.000000   \n",
       "mean     1.742230    0.153565    0.188300    2.451554  ...    0.203443   \n",
       "std      2.934154    0.675447    0.786336    2.563289  ...    0.535085   \n",
       "min      0.000000    0.000000    0.000000    0.000000  ...    0.000000   \n",
       "25%      0.000000    0.000000    0.000000    0.000000  ...    0.000000   \n",
       "50%      1.000000    0.000000    0.000000    2.000000  ...    0.100000   \n",
       "75%      2.000000    0.000000    0.000000    4.000000  ...    0.280000   \n",
       "max     23.000000    6.000000    7.000000   11.000000  ...   11.250000   \n",
       "\n",
       "               xG        npxG          xA     npxG+xA        xG.1        xA.1  \\\n",
       "count  546.000000  546.000000  546.000000  546.000000  546.000000  546.000000   \n",
       "mean     1.928755    1.784982    1.300916    3.088828    0.137216    0.092619   \n",
       "std      2.982733    2.673862    1.711252    4.055039    0.259142    0.295461   \n",
       "min      0.000000    0.000000    0.000000    0.000000    0.000000    0.000000   \n",
       "25%      0.100000    0.100000    0.100000    0.300000    0.020000    0.010000   \n",
       "50%      0.800000    0.750000    0.650000    1.600000    0.060000    0.060000   \n",
       "75%      2.500000    2.400000    1.900000    4.300000    0.170000    0.120000   \n",
       "max     21.800000   17.100000   11.200000   27.400000    4.480000    6.500000   \n",
       "\n",
       "            xG+xA      npxG.1   npxG+xA.1  \n",
       "count  546.000000  546.000000  546.000000  \n",
       "mean     0.230037    0.130147    0.222967  \n",
       "std      0.405768    0.254656    0.402157  \n",
       "min      0.000000    0.000000    0.000000  \n",
       "25%      0.050000    0.012500    0.050000  \n",
       "50%      0.130000    0.060000    0.130000  \n",
       "75%      0.330000    0.160000    0.310000  \n",
       "max      6.500000    4.480000    6.500000  \n",
       "\n",
       "[8 rows x 25 columns]"
      ]
     },
     "execution_count": 9,
     "metadata": {},
     "output_type": "execute_result"
    }
   ],
   "source": [
    "df.describe()"
   ]
  },
  {
   "cell_type": "markdown",
   "id": "0c670d5d-b691-45a7-af9c-3938fb969f08",
   "metadata": {},
   "source": [
    "## Player Performance"
   ]
  },
  {
   "cell_type": "markdown",
   "id": "2b876cd3-2cdc-4c8a-be2e-50e3857695be",
   "metadata": {},
   "source": [
    "### 1. Top goal scorers"
   ]
  },
  {
   "cell_type": "code",
   "execution_count": 27,
   "id": "03d9d0cb-821c-46c8-b18c-d01a02bf5387",
   "metadata": {},
   "outputs": [
    {
     "name": "stdout",
     "output_type": "stream",
     "text": [
      "Top Goal Scorers:\n",
      "356        Mohamed Salah\n",
      "556        Son Heung-min\n",
      "423    Cristiano Ronaldo\n",
      "553           Harry Kane\n",
      "354           Sadio Mané\n",
      "Name: Player, dtype: object\n"
     ]
    }
   ],
   "source": [
    " top_goal_scorers = df.nlargest(5, 'Gls')['Player']\n",
    "\n",
    "# Displaying the results\n",
    "print(\"Top Goal Scorers:\")\n",
    "print(top_goal_scorers)\n",
    "\n",
    " "
   ]
  },
  {
   "cell_type": "markdown",
   "id": "8814f8fa-4f45-48b1-8f17-c9d0adc816ef",
   "metadata": {},
   "source": [
    "### 2.Player with the highest expected goals (xG)"
   ]
  },
  {
   "cell_type": "code",
   "execution_count": 28,
   "id": "dc97e12e-2357-420a-ba58-997dd729eb8b",
   "metadata": {},
   "outputs": [
    {
     "name": "stdout",
     "output_type": "stream",
     "text": [
      "Player with Highest xG:\n",
      "Mohamed Salah\n"
     ]
    }
   ],
   "source": [
    "highest_xG_player = df.loc[df['xG'].idxmax()]['Player']\n",
    "print(\"Player with Highest xG:\")\n",
    "print(highest_xG_player)\n",
    "most_assists_players = df.nlargest(5, 'Ast')['Player']"
   ]
  },
  {
   "cell_type": "markdown",
   "id": "c5e9fbc3-d92d-4f22-90a9-ff8205f31f99",
   "metadata": {},
   "source": [
    "### 3. Player with the best goals-to-minutes ratio (Gls per 90 minutes)"
   ]
  },
  {
   "cell_type": "code",
   "execution_count": 29,
   "id": "f7f9b20d-9422-4679-9553-becce3e2643c",
   "metadata": {},
   "outputs": [
    {
     "name": "stdout",
     "output_type": "stream",
     "text": [
      "Best Goals-to-Minutes Ratio:\n",
      "375    Divock Origi\n",
      "Name: Player, dtype: object\n"
     ]
    }
   ],
   "source": [
    "best_ratio_player = df[df['90s'] > 0].nlargest(1, 'Gls.1')['Player']\n",
    "print(\"Best Goals-to-Minutes Ratio:\")\n",
    "print(best_ratio_player)\n"
   ]
  },
  {
   "cell_type": "markdown",
   "id": "4d03a294-2da8-414c-a82d-f28fb2b227ef",
   "metadata": {},
   "source": [
    "### 4. Players with the most assists\n",
    "  "
   ]
  },
  {
   "cell_type": "code",
   "execution_count": 33,
   "id": "20c9824a-b719-4777-841f-6ca7ee8ed47c",
   "metadata": {},
   "outputs": [
    {
     "name": "stdout",
     "output_type": "stream",
     "text": [
      "Player with Most Highest xA:\n",
      "Trent Alexander-Arnold\n"
     ]
    }
   ],
   "source": [
    "most_assists_players = df.nlargest(5, 'Ast')['Player']\n",
    "\n",
    "print(\"Player with Most Highest xA:\")\n",
    "print(highest_xA_player)"
   ]
  },
  {
   "cell_type": "markdown",
   "id": "6b9fde9a-3778-4120-8d1a-08fd906fa3fb",
   "metadata": {},
   "source": [
    "### 5. Player with the highest expected assists (xA)"
   ]
  },
  {
   "cell_type": "code",
   "execution_count": 36,
   "id": "55235e72-f707-4953-9b23-448f841e4c4f",
   "metadata": {},
   "outputs": [
    {
     "name": "stdout",
     "output_type": "stream",
     "text": [
      "Player with Highest xA:\n",
      "Trent Alexander-Arnold\n"
     ]
    }
   ],
   "source": [
    "highest_xA_player = df.loc[df['xA'].idxmax()]['Player']\n",
    "print(\"Player with Highest xA:\")\n",
    "print(highest_xA_player)\n"
   ]
  },
  {
   "cell_type": "markdown",
   "id": "bca66a7c-5a22-4a09-92f7-0d239e3bee06",
   "metadata": {},
   "source": [
    "### 6. Players with the highest combined goals and assists (G+A)"
   ]
  },
  {
   "cell_type": "code",
   "execution_count": 37,
   "id": "39f87d90-efbc-4f62-9d1e-22cf3d16e97f",
   "metadata": {},
   "outputs": [
    {
     "name": "stdout",
     "output_type": "stream",
     "text": [
      "Players with Highest G+A:\n",
      "377      Neco Williams\n",
      "375       Divock Origi\n",
      "209             Kenedy\n",
      "373    Takumi Minamino\n",
      "679          Chiquinho\n",
      "Name: Player, dtype: object\n"
     ]
    }
   ],
   "source": [
    "high_ga_players = df.nlargest(5, 'G+A')['Player']\n",
    "print(\"Players with Highest G+A:\")\n",
    "print(high_ga_players)"
   ]
  },
  {
   "cell_type": "markdown",
   "id": "e9fbc36e-bbd6-4055-ba10-13d0df8c04ed",
   "metadata": {},
   "source": [
    "### Relationship between age and performance metrics."
   ]
  },
  {
   "cell_type": "code",
   "execution_count": 15,
   "id": "1f731e80-4f38-49b7-8178-ef6f15300193",
   "metadata": {},
   "outputs": [
    {
     "data": {
      "text/plain": [
       "<matplotlib.legend.Legend at 0x289e8cff3a0>"
      ]
     },
     "execution_count": 15,
     "metadata": {},
     "output_type": "execute_result"
    },
    {
     "data": {
      "image/png": "[encoded data removed]",
      "text/plain": [
       "<Figure size 720x432 with 1 Axes>"
      ]
     },
     "metadata": {
      "needs_background": "light"
     },
     "output_type": "display_data"
    }
   ],
   "source": [
    "selected_columns = ['Player', 'Gls', 'Ast']\n",
    "df_selected = df[selected_columns].dropna()\n",
    "\n",
    "# Plotting bar chart\n",
    "plt.figure(figsize=(10, 6))\n",
    "plt.bar(df_selected['Player'].head(7), df_selected['Gls'].head(7), label='Goals', alpha=0.5)\n",
    "plt.bar(df_selected['Player'].head(7), df_selected['Ast'].head(7), label='Assists', alpha=0.7)\n",
    "\n",
    "plt.xlabel('Players')\n",
    "plt.ylabel('Count')\n",
    "plt.title('Comparison of Goals and Assists for Different Players')\n",
    "plt.legend()"
   ]
  },
  {
   "cell_type": "markdown",
   "id": "a2da28fd-6c1b-4f14-ae99-199b91b63fc6",
   "metadata": {},
   "source": [
    "## Team Analysis"
   ]
  },
  {
   "cell_type": "markdown",
   "id": "b3ded568-bf7e-4508-84e2-3f92a18423ed",
   "metadata": {},
   "source": [
    "### Which team has the highest total goals?"
   ]
  },
  {
   "cell_type": "code",
   "execution_count": 39,
   "id": "68811df2-5732-414d-b651-acf9dfd0c348",
   "metadata": {},
   "outputs": [
    {
     "name": "stdout",
     "output_type": "stream",
     "text": [
      "Team with Highest total goals:\n",
      "Manchester City\n"
     ]
    }
   ],
   "source": [
    "total_goals_by_team = df.groupby('Team')['Gls'].sum()\n",
    "team_highest_goals = total_goals_by_team.idxmax()\n",
    "print(\"Team with Highest total goals:\")\n",
    "print(team_highest_goals)"
   ]
  },
  {
   "cell_type": "markdown",
   "id": "5cb495b9-cf67-445a-90e9-994b6fd03e78",
   "metadata": {},
   "source": [
    "### Team with the most assists (Ast)"
   ]
  },
  {
   "cell_type": "code",
   "execution_count": 41,
   "id": "502dc208-fb10-493a-a850-41237a9bc8fd",
   "metadata": {},
   "outputs": [
    {
     "name": "stdout",
     "output_type": "stream",
     "text": [
      "Team with most Assist\n",
      "Liverpool\n"
     ]
    }
   ],
   "source": [
    "total_assists_by_team = df.groupby('Team')['Ast'].sum()\n",
    "team_most_assists = total_assists_by_team.idxmax()\n",
    "print(\"Team with most Assist\")\n",
    "print(team_most_assists)"
   ]
  },
  {
   "cell_type": "markdown",
   "id": "451a7f24-2aa3-408e-82b4-0b19bd594805",
   "metadata": {},
   "source": [
    "### Average age of players for each team"
   ]
  },
  {
   "cell_type": "code",
   "execution_count": 45,
   "id": "27c8cb5a-051f-45f9-a525-34ceaa80308c",
   "metadata": {},
   "outputs": [
    {
     "name": "stdout",
     "output_type": "stream",
     "text": [
      "Team\n",
      "Arsenal                    22.487805\n",
      "Aston Villa                23.658537\n",
      "Brentford                  23.527778\n",
      "Brighton & Hove Albion     23.685714\n",
      "Burnley                    27.032258\n",
      "Chelsea                    25.387097\n",
      "Crystal Palace             25.400000\n",
      "Everton                    24.550000\n",
      "Leeds United               22.750000\n",
      "Leicester City             25.375000\n",
      "Liverpool                  24.428571\n",
      "Manchester City            24.121212\n",
      "Manchester United          25.055556\n",
      "Newcastle United           26.515152\n",
      "Norwich City               23.588235\n",
      "Southampton                24.931034\n",
      "Tottenham Hotspur          23.542857\n",
      "Watford                    25.384615\n",
      "West Ham United            25.516129\n",
      "Wolverhampton Wanderers    23.939394\n",
      "Name: Age, dtype: float64 Average age\n"
     ]
    }
   ],
   "source": [
    "average_age_by_team = df.groupby('Team')['Age'].mean()\n",
    "average_age_by_team,"
   ]
  },
  {
   "cell_type": "markdown",
   "id": "ce721796-a6b1-467f-91db-98b82c54fa3e",
   "metadata": {},
   "source": [
    "### Which team has the most yellow cards (CrdY) in total"
   ]
  },
  {
   "cell_type": "code",
   "execution_count": 48,
   "id": "544c34bf-0eae-402e-950e-93ad75dcd4f8",
   "metadata": {},
   "outputs": [
    {
     "name": "stdout",
     "output_type": "stream",
     "text": [
      "Team with the most yellow card\n"
     ]
    },
    {
     "data": {
      "text/plain": [
       "'Leeds United'"
      ]
     },
     "execution_count": 48,
     "metadata": {},
     "output_type": "execute_result"
    }
   ],
   "source": [
    "total_yellow_cards_by_team = df.groupby('Team')['CrdY'].sum()\n",
    "team_most_yellow_cards = total_yellow_cards_by_team.idxmax()\n",
    "print('Team with the most yellow card is')\n",
    "team_most_yellow_cards"
   ]
  },
  {
   "cell_type": "markdown",
   "id": "349f8427-1aa8-44b3-bb9b-2de6b3014923",
   "metadata": {},
   "source": [
    "### Team that has the best defensive record based on goals conceded?"
   ]
  },
  {
   "cell_type": "code",
   "execution_count": 50,
   "id": "bb4a580b-bb4c-4c85-b5e1-7145d2a4f748",
   "metadata": {},
   "outputs": [
    {
     "data": {
      "text/plain": [
       "'Norwich City'"
      ]
     },
     "execution_count": 50,
     "metadata": {},
     "output_type": "execute_result"
    }
   ],
   "source": [
    "total_goals_conceded_by_team = df.groupby('Team')['Gls'].sum()\n",
    "team_best_defense = total_goals_conceded_by_team.idxmin()\n",
    "team_best_defense"
   ]
  },
  {
   "cell_type": "markdown",
   "id": "5b42c00e-3e29-4457-9fea-c423768eb441",
   "metadata": {},
   "source": [
    "## Position Analysis"
   ]
  },
  {
   "cell_type": "markdown",
   "id": "ac34f729-949c-4191-9f82-a60cc9abd840",
   "metadata": {},
   "source": [
    "### The average goals per player for each position and the one with the highest average."
   ]
  },
  {
   "cell_type": "code",
   "execution_count": 53,
   "id": "17bff0b8-473c-4947-9567-53258cef26f0",
   "metadata": {},
   "outputs": [
    {
     "data": {
      "text/plain": [
       "'FW'"
      ]
     },
     "execution_count": 53,
     "metadata": {},
     "output_type": "execute_result"
    }
   ],
   "source": [
    "pos_goals_avg = df.groupby('Pos')['Gls'].mean()\n",
    "highest_avg_pos = pos_goals_avg.idxmax()\n",
    "highest_avg_pos"
   ]
  },
  {
   "cell_type": "markdown",
   "id": "b6b01240-e316-49bd-ae5b-aec98b9a5e32",
   "metadata": {},
   "source": [
    "### The most common nationality among defenders."
   ]
  },
  {
   "cell_type": "code",
   "execution_count": 55,
   "id": "1a237c3f-b250-4a11-a7f8-5a56fe2c0883",
   "metadata": {},
   "outputs": [
    {
     "data": {
      "text/plain": [
       "'eng\\xa0ENG'"
      ]
     },
     "execution_count": 55,
     "metadata": {},
     "output_type": "execute_result"
    }
   ],
   "source": [
    "most_common_nation_df = df[df['Pos'] == 'DF']['Nation'].value_counts().idxmax()\n",
    "most_common_nation_df"
   ]
  },
  {
   "cell_type": "markdown",
   "id": "9b917c87-ac9f-410d-9bb9-2cc3bd509236",
   "metadata": {},
   "source": [
    "### The average age for midfielders and forwards."
   ]
  },
  {
   "cell_type": "code",
   "execution_count": 57,
   "id": "ee5e643f-b4e7-4247-b0b8-bee53d60e04b",
   "metadata": {},
   "outputs": [
    {
     "data": {
      "text/plain": [
       "24.094117647058823"
      ]
     },
     "execution_count": 57,
     "metadata": {},
     "output_type": "execute_result"
    }
   ],
   "source": [
    "avg_age_mf = df[df['Pos'].isin(['MF', 'FW'])]['Age'].mean()\n",
    "avg_age_mf"
   ]
  },
  {
   "cell_type": "markdown",
   "id": "9479dfde-9aed-4874-b364-a659cd686ad7",
   "metadata": {},
   "source": [
    "### The top-scoring goalkeepers."
   ]
  },
  {
   "cell_type": "code",
   "execution_count": 59,
   "id": "bdc739ec-ff94-461d-9f23-8cc7546e627e",
   "metadata": {},
   "outputs": [
    {
     "data": {
      "text/plain": [
       "2        Aaron Ramsdale\n",
       "20           Bernd Leno\n",
       "42    Emiliano Martínez\n",
       "65          Robin Olsen\n",
       "66            Jed Steer\n",
       "Name: Player, dtype: object"
      ]
     },
     "execution_count": 59,
     "metadata": {},
     "output_type": "execute_result"
    }
   ],
   "source": [
    "df[df['Pos'] == 'GK'].nlargest(5, 'Gls')['Player']"
   ]
  },
  {
   "cell_type": "markdown",
   "id": "f784fc60-8cef-40e5-ae5b-4d7f5037658d",
   "metadata": {},
   "source": [
    "## Expected Goals Analysis"
   ]
  },
  {
   "cell_type": "markdown",
   "id": "778d32ac-20b9-493d-96bf-1cc90ef83c49",
   "metadata": {},
   "source": [
    "### Correlation between actual goals (Gls) and expected goals (xG)"
   ]
  },
  {
   "cell_type": "code",
   "execution_count": 75,
   "id": "fbd862b8-9779-43f8-b703-03747a76a231",
   "metadata": {},
   "outputs": [
    {
     "name": "stdout",
     "output_type": "stream",
     "text": [
      "Correlation between Gls and xG: 0.93\n"
     ]
    }
   ],
   "source": [
    "from scipy.stats import pearsonr\n",
    "df = df.replace([np.inf, -np.inf], np.nan).dropna(subset=['Gls', 'xG'])\n",
    "correlation= pearsonr(df['Gls'], df['xG'])\n",
    "print(f\"Correlation between Gls and xG: {correlation[0]:.2f}\")"
   ]
  },
  {
   "cell_type": "markdown",
   "id": "4fed34d4-5573-4581-8dda-48134e85a607",
   "metadata": {},
   "source": [
    "There is a strong correlation between actual goals (Gls) and expected goals (xG)"
   ]
  },
  {
   "cell_type": "markdown",
   "id": "8974720a-8274-468a-82a0-77941fc3adca",
   "metadata": {},
   "source": [
    "### Player with the highest non-penalty expected goals (npxG)"
   ]
  },
  {
   "cell_type": "code",
   "execution_count": 65,
   "id": "04818981-e823-43ea-8028-9449f483b16b",
   "metadata": {},
   "outputs": [
    {
     "name": "stdout",
     "output_type": "stream",
     "text": [
      "Player with the highest npxG: Harry Kane\n"
     ]
    }
   ],
   "source": [
    "\n",
    "top_player_npxG = df.loc[df['npxG'].idxmax()]['Player']\n",
    "print(f\"Player with the highest npxG: {top_player_npxG}\")\n",
    "\n"
   ]
  },
  {
   "cell_type": "markdown",
   "id": "9363975b-b1eb-4c35-9e0b-b18cb84539a8",
   "metadata": {},
   "source": [
    "### Difference between actual goals and expected goals"
   ]
  },
  {
   "cell_type": "code",
   "execution_count": 68,
   "id": "7e058aee-9098-440e-b544-98af5adb5e79",
   "metadata": {},
   "outputs": [
    {
     "name": "stdout",
     "output_type": "stream",
     "text": [
      "Difference between Gls and xG for each player:\n",
      "                 Player  Gls_minus_xG\n",
      "0           Bukayo Saka           1.3\n",
      "1    Gabriel Dos Santos           2.3\n",
      "2        Aaron Ramsdale           0.0\n",
      "3             Ben White          -1.0\n",
      "4       Martin Ødegaard           2.2\n",
      "..                  ...           ...\n",
      "686   Christian Marques           NaN\n",
      "687     Yerson Mosquera           NaN\n",
      "688       Louie Moulden           NaN\n",
      "689      Dion Sanderson           NaN\n",
      "690        James Storer           NaN\n",
      "\n",
      "[691 rows x 2 columns]\n"
     ]
    }
   ],
   "source": [
    "df['Gls_minus_xG'] = df['Gls'] - df['xG']\n",
    "print(\"Difference between Gls and xG for each player:\")\n",
    "print(df[['Player', 'Gls_minus_xG']])"
   ]
  },
  {
   "cell_type": "markdown",
   "id": "f3cc114e-e3a7-477b-9a30-a484ab1a5873",
   "metadata": {},
   "source": [
    "### Correlation between Goals and Expected Goals"
   ]
  },
  {
   "cell_type": "code",
   "execution_count": 19,
   "id": "50b874fb-722c-49c1-b664-4fed52ee821e",
   "metadata": {},
   "outputs": [
    {
     "data": {
      "text/plain": [
       "Text(0.5, 1.0, 'Correlation between Goals and Expected Goals')"
      ]
     },
     "execution_count": 19,
     "metadata": {},
     "output_type": "execute_result"
    },
    {
     "data": {
      "image/png": "[encoded data removed]",
      "text/plain": [
       "<Figure size 576x432 with 2 Axes>"
      ]
     },
     "metadata": {
      "needs_background": "light"
     },
     "output_type": "display_data"
    }
   ],
   "source": [
    "correlation_data = df[['Gls', 'xG']]\n",
    "\n",
    "# Calculate the correlation matrix\n",
    "correlation_matrix = correlation_data.corr()\n",
    "\n",
    "# Create a heatmap\n",
    "plt.figure(figsize=(8, 6))\n",
    "sns.heatmap(correlation_matrix, annot=True, cmap='coolwarm', linewidths=.5)\n",
    "plt.title('Correlation between Goals and Expected Goals')"
   ]
  },
  {
   "cell_type": "markdown",
   "id": "d7777d83-3093-4af7-a32c-d93d2a114e14",
   "metadata": {},
   "source": [
    "The heatmap above shows that there is a strong between Goals and Exoected goals"
   ]
  },
  {
   "cell_type": "markdown",
   "id": "db89f750-faa9-4850-ae32-698785b8273a",
   "metadata": {},
   "source": [
    "## Minutes Played"
   ]
  },
  {
   "cell_type": "markdown",
   "id": "640f6de2-db92-4672-8469-2069421d4582",
   "metadata": {},
   "source": [
    "### The players with the most minutes played (Min)"
   ]
  },
  {
   "cell_type": "code",
   "execution_count": 79,
   "id": "55ce18a3-b068-4240-9b23-329ed24b77b1",
   "metadata": {},
   "outputs": [
    {
     "data": {
      "text/plain": [
       "338    James Justin\n",
       "Name: Player, dtype: object"
      ]
     },
     "execution_count": 79,
     "metadata": {},
     "output_type": "execute_result"
    }
   ],
   "source": [
    "most_minutes_players = df[df['Min'] == df['Min'].max()]['Player']\n",
    "most_minutes_players"
   ]
  },
  {
   "cell_type": "markdown",
   "id": "81a8208a-f197-480a-acab-6fb23e1e699b",
   "metadata": {},
   "source": [
    "### Average number of starts for players."
   ]
  },
  {
   "cell_type": "code",
   "execution_count": 81,
   "id": "ab0bd34b-0978-4f3d-902d-05c402488fcb",
   "metadata": {},
   "outputs": [
    {
     "data": {
      "text/plain": [
       "15.311355311355312"
      ]
     },
     "execution_count": 81,
     "metadata": {},
     "output_type": "execute_result"
    }
   ],
   "source": [
    "average_starts = df['Starts'].mean()\n",
    "average_starts"
   ]
  },
  {
   "cell_type": "markdown",
   "id": "389411fd-a9d1-4aee-abef-f91f8006e768",
   "metadata": {},
   "source": [
    "## Discipline"
   ]
  },
  {
   "cell_type": "markdown",
   "id": "c35ce2cc-9e0c-4e3f-af4c-6471bef5cab2",
   "metadata": {},
   "source": [
    "### players with the most red cards (CrdR)"
   ]
  },
  {
   "cell_type": "code",
   "execution_count": 82,
   "id": "3890aeaa-27f1-46e0-9dd9-1e3353643767",
   "metadata": {},
   "outputs": [
    {
     "data": {
      "text/plain": [
       "47       Ezri Konsa\n",
       "663    Raúl Jiménez\n",
       "Name: Player, dtype: object"
      ]
     },
     "execution_count": 82,
     "metadata": {},
     "output_type": "execute_result"
    }
   ],
   "source": [
    "most_red_cards_players = df[df['CrdR'] == df['CrdR'].max()]['Player']\n",
    "most_red_cards_players"
   ]
  },
  {
   "cell_type": "markdown",
   "id": "0ce0aad3-43e5-4739-bce0-8ff1aa3d1dda",
   "metadata": {},
   "source": [
    "### Average number of yellow cards (CrdY) per team."
   ]
  },
  {
   "cell_type": "code",
   "execution_count": 84,
   "id": "f801dd74-9af9-4711-9d6e-e5f9b69c2534",
   "metadata": {},
   "outputs": [
    {
     "data": {
      "text/plain": [
       "Team\n",
       "Arsenal                    2.481481\n",
       "Aston Villa                2.612903\n",
       "Brentford                  2.241379\n",
       "Brighton & Hove Albion     2.769231\n",
       "Burnley                    2.956522\n",
       "Chelsea                    2.423077\n",
       "Crystal Palace             2.875000\n",
       "Everton                    2.484848\n",
       "Leeds United               3.448276\n",
       "Leicester City             1.964286\n",
       "Liverpool                  1.851852\n",
       "Manchester City            1.615385\n",
       "Manchester United          2.655172\n",
       "Newcastle United           2.793103\n",
       "Norwich City               2.035714\n",
       "Southampton                2.600000\n",
       "Tottenham Hotspur          2.760000\n",
       "Watford                    2.100000\n",
       "West Ham United            2.080000\n",
       "Wolverhampton Wanderers    2.384615\n",
       "Name: CrdY, dtype: float64"
      ]
     },
     "execution_count": 84,
     "metadata": {},
     "output_type": "execute_result"
    }
   ],
   "source": [
    "average_yellow_cards_per_team = df.groupby('Team')['CrdY'].mean()\n",
    "average_yellow_cards_per_team"
   ]
  },
  {
   "cell_type": "markdown",
   "id": "f3f80d73-14cc-4312-b823-b6632a3a6ebc",
   "metadata": {},
   "source": [
    "### Relationship between yellow cards and player age."
   ]
  },
  {
   "cell_type": "code",
   "execution_count": 86,
   "id": "ce9595e6-95a8-4d66-8626-64150a8eda26",
   "metadata": {},
   "outputs": [
    {
     "data": {
      "text/plain": [
       "0.14252919483383228"
      ]
     },
     "execution_count": 86,
     "metadata": {},
     "output_type": "execute_result"
    }
   ],
   "source": [
    "yellow_cards_age_correlation = df['CrdY'].corr(df['Age'])\n",
    "yellow_cards_age_correlation"
   ]
  },
  {
   "cell_type": "markdown",
   "id": "3d1ab91d-d1cb-4eb3-9f78-ed1413f699c6",
   "metadata": {},
   "source": [
    "There is no strong relationship between yellow cards and player age"
   ]
  },
  {
   "cell_type": "markdown",
   "id": "5b96dce6-0329-4d89-8dd0-c100509acf20",
   "metadata": {},
   "source": [
    "## Distribution of yellow and red cards for each player "
   ]
  },
  {
   "cell_type": "code",
   "execution_count": 18,
   "id": "9f45eb26-0103-4838-9d5a-b06905e19008",
   "metadata": {},
   "outputs": [
    {
     "data": {
      "text/plain": [
       "Text(0.5, 1.0, 'Distribution of Yellow and Red Cards for Each Player')"
      ]
     },
     "execution_count": 18,
     "metadata": {},
     "output_type": "execute_result"
    },
    {
     "data": {
      "image/png": "[encoded data removed]",
      "text/plain": [
       "<Figure size 720x432 with 1 Axes>"
      ]
     },
     "metadata": {
      "needs_background": "light"
     },
     "output_type": "display_data"
    }
   ],
   "source": [
    "cards_data = df[['Player', 'CrdY', 'CrdR']]\n",
    "\n",
    "# Set 'Player' as the index for better visualization\n",
    "cards_data.set_index('Player', inplace=True)\n",
    "\n",
    "# Plot stacked bar chart\n",
    "ax = cards_data[['CrdY', 'CrdR']].head(10).plot(kind='bar', stacked=True, figsize=(10, 6))\n",
    "\n",
    "# Customize the plot\n",
    "ax.set_ylabel('Number of Cards')\n",
    "ax.set_xlabel('Players')\n",
    "ax.set_title('Distribution of Yellow and Red Cards for Each Player')\n"
   ]
  },
  {
   "cell_type": "markdown",
   "id": "cd67f5ef-2a42-4f34-b3e9-d3bd2e54ce6f",
   "metadata": {},
   "source": [
    "## Efficiency Analysis"
   ]
  },
  {
   "cell_type": "markdown",
   "id": "7d02f6e4-7e80-48c5-8125-175a54a32a17",
   "metadata": {},
   "source": [
    "### Ratio of goals to expected goals (G/xG) for each player."
   ]
  },
  {
   "cell_type": "code",
   "execution_count": 89,
   "id": "af8622f4-5805-4ab2-ae49-0b1a65a58691",
   "metadata": {},
   "outputs": [
    {
     "data": {
      "text/plain": [
       "0    1.134021\n",
       "1    1.851852\n",
       "2         NaN\n",
       "3    0.000000\n",
       "4    1.458333\n",
       "Name: G_xG_ratio, dtype: float64"
      ]
     },
     "execution_count": 89,
     "metadata": {},
     "output_type": "execute_result"
    }
   ],
   "source": [
    "df['G_xG_ratio'] = df['Gls'] / df['xG']\n",
    "df['G_xG_ratio'].head()"
   ]
  },
  {
   "cell_type": "markdown",
   "id": "9d5682d8-90c5-4824-bf5b-a26ceb462c2d",
   "metadata": {},
   "source": [
    "### which players have the highest non-penalty goals per 90 minutes."
   ]
  },
  {
   "cell_type": "code",
   "execution_count": 92,
   "id": "f1d6a8c7-2f7d-498e-aeaf-7395b1f6e515",
   "metadata": {},
   "outputs": [
    {
     "data": {
      "text/plain": [
       "376    Kaide Gordon\n",
       "Name: Player, dtype: object"
      ]
     },
     "execution_count": 92,
     "metadata": {},
     "output_type": "execute_result"
    }
   ],
   "source": [
    "df['npxG_per_90'] = df['npxG'] / (df['90s'] )\n",
    "highest_npxG_per_90_players = df[df['npxG_per_90'] == df['npxG_per_90'].max()]['Player']\n",
    "highest_npxG_per_90_players"
   ]
  },
  {
   "cell_type": "markdown",
   "id": "57d5699e-07de-4080-a1c2-ae1df1487f55",
   "metadata": {},
   "source": [
    "### Who has the best combined non-penalty goals and assists per 90 minutes (G+A-PK)?"
   ]
  },
  {
   "cell_type": "code",
   "execution_count": 94,
   "id": "17e6e95b-b9dd-45bb-9941-6e07ff4e2851",
   "metadata": {},
   "outputs": [
    {
     "data": {
      "text/plain": [
       "377    Neco Williams\n",
       "Name: Player, dtype: object"
      ]
     },
     "execution_count": 94,
     "metadata": {},
     "output_type": "execute_result"
    }
   ],
   "source": [
    "df['G_A_PK_per_90'] = (df['Gls'] + df['Ast'] - df['PK']) / (df['90s'])\n",
    "best_G_A_PK_per_90_players = df[df['G_A_PK_per_90'] == df['G_A_PK_per_90'].max()]['Player']\n",
    "best_G_A_PK_per_90_players"
   ]
  },
  {
   "cell_type": "markdown",
   "id": "cba48cd5-baa4-4ffc-84e6-17c343d943fa",
   "metadata": {},
   "source": [
    "## Age and Performance\n"
   ]
  },
  {
   "cell_type": "markdown",
   "id": "b40ab843-e65c-492a-9e7f-0ee21b39664f",
   "metadata": {},
   "source": [
    "### Is there a correlation between player age and performance metrics like goals or assists?\n"
   ]
  },
  {
   "cell_type": "code",
   "execution_count": 100,
   "id": "707b4175-4c29-4744-aacd-3b32f59312d0",
   "metadata": {},
   "outputs": [
    {
     "data": {
      "text/html": [
       "<div>\n",
       "<style scoped>\n",
       "    .dataframe tbody tr th:only-of-type {\n",
       "        vertical-align: middle;\n",
       "    }\n",
       "\n",
       "    .dataframe tbody tr th {\n",
       "        vertical-align: top;\n",
       "    }\n",
       "\n",
       "    .dataframe thead th {\n",
       "        text-align: right;\n",
       "    }\n",
       "</style>\n",
       "<table border=\"1\" class=\"dataframe\">\n",
       "  <thead>\n",
       "    <tr style=\"text-align: right;\">\n",
       "      <th></th>\n",
       "      <th>Age</th>\n",
       "      <th>Gls</th>\n",
       "      <th>Ast</th>\n",
       "    </tr>\n",
       "  </thead>\n",
       "  <tbody>\n",
       "    <tr>\n",
       "      <th>Age</th>\n",
       "      <td>1.000000</td>\n",
       "      <td>0.080965</td>\n",
       "      <td>0.055949</td>\n",
       "    </tr>\n",
       "    <tr>\n",
       "      <th>Gls</th>\n",
       "      <td>0.080965</td>\n",
       "      <td>1.000000</td>\n",
       "      <td>0.598363</td>\n",
       "    </tr>\n",
       "    <tr>\n",
       "      <th>Ast</th>\n",
       "      <td>0.055949</td>\n",
       "      <td>0.598363</td>\n",
       "      <td>1.000000</td>\n",
       "    </tr>\n",
       "  </tbody>\n",
       "</table>\n",
       "</div>"
      ],
      "text/plain": [
       "          Age       Gls       Ast\n",
       "Age  1.000000  0.080965  0.055949\n",
       "Gls  0.080965  1.000000  0.598363\n",
       "Ast  0.055949  0.598363  1.000000"
      ]
     },
     "execution_count": 100,
     "metadata": {},
     "output_type": "execute_result"
    }
   ],
   "source": [
    "age_performance_correlation = df[['Age', 'Gls', 'Ast']].corr()\n",
    "age_performance_correlation"
   ]
  },
  {
   "cell_type": "markdown",
   "id": "b0c5fea1-ec17-40c4-875b-79cfe670bca5",
   "metadata": {},
   "source": [
    "### How does the age distribution differ for different playing positions?"
   ]
  },
  {
   "cell_type": "code",
   "execution_count": 103,
   "id": "d5ea9542-af5b-4606-a099-93d8c4573721",
   "metadata": {},
   "outputs": [
    {
     "data": {
      "text/html": [
       "<div>\n",
       "<style scoped>\n",
       "    .dataframe tbody tr th:only-of-type {\n",
       "        vertical-align: middle;\n",
       "    }\n",
       "\n",
       "    .dataframe tbody tr th {\n",
       "        vertical-align: top;\n",
       "    }\n",
       "\n",
       "    .dataframe thead th {\n",
       "        text-align: right;\n",
       "    }\n",
       "</style>\n",
       "<table border=\"1\" class=\"dataframe\">\n",
       "  <thead>\n",
       "    <tr style=\"text-align: right;\">\n",
       "      <th></th>\n",
       "      <th>count</th>\n",
       "      <th>mean</th>\n",
       "      <th>std</th>\n",
       "      <th>min</th>\n",
       "      <th>25%</th>\n",
       "      <th>50%</th>\n",
       "      <th>75%</th>\n",
       "      <th>max</th>\n",
       "    </tr>\n",
       "    <tr>\n",
       "      <th>Pos</th>\n",
       "      <th></th>\n",
       "      <th></th>\n",
       "      <th></th>\n",
       "      <th></th>\n",
       "      <th></th>\n",
       "      <th></th>\n",
       "      <th></th>\n",
       "      <th></th>\n",
       "    </tr>\n",
       "  </thead>\n",
       "  <tbody>\n",
       "    <tr>\n",
       "      <th>DF</th>\n",
       "      <td>185.0</td>\n",
       "      <td>25.675676</td>\n",
       "      <td>3.842370</td>\n",
       "      <td>17.0</td>\n",
       "      <td>23.00</td>\n",
       "      <td>26.0</td>\n",
       "      <td>28.00</td>\n",
       "      <td>36.0</td>\n",
       "    </tr>\n",
       "    <tr>\n",
       "      <th>DF,FW</th>\n",
       "      <td>4.0</td>\n",
       "      <td>27.500000</td>\n",
       "      <td>6.557439</td>\n",
       "      <td>20.0</td>\n",
       "      <td>25.25</td>\n",
       "      <td>27.0</td>\n",
       "      <td>29.25</td>\n",
       "      <td>36.0</td>\n",
       "    </tr>\n",
       "    <tr>\n",
       "      <th>DF,MF</th>\n",
       "      <td>5.0</td>\n",
       "      <td>24.400000</td>\n",
       "      <td>3.974921</td>\n",
       "      <td>21.0</td>\n",
       "      <td>21.00</td>\n",
       "      <td>23.0</td>\n",
       "      <td>27.00</td>\n",
       "      <td>30.0</td>\n",
       "    </tr>\n",
       "    <tr>\n",
       "      <th>FW</th>\n",
       "      <td>83.0</td>\n",
       "      <td>25.313253</td>\n",
       "      <td>4.838685</td>\n",
       "      <td>16.0</td>\n",
       "      <td>21.00</td>\n",
       "      <td>25.0</td>\n",
       "      <td>29.00</td>\n",
       "      <td>36.0</td>\n",
       "    </tr>\n",
       "    <tr>\n",
       "      <th>FW,DF</th>\n",
       "      <td>2.0</td>\n",
       "      <td>28.500000</td>\n",
       "      <td>3.535534</td>\n",
       "      <td>26.0</td>\n",
       "      <td>27.25</td>\n",
       "      <td>28.5</td>\n",
       "      <td>29.75</td>\n",
       "      <td>31.0</td>\n",
       "    </tr>\n",
       "    <tr>\n",
       "      <th>FW,MF</th>\n",
       "      <td>59.0</td>\n",
       "      <td>22.762712</td>\n",
       "      <td>3.013412</td>\n",
       "      <td>18.0</td>\n",
       "      <td>20.00</td>\n",
       "      <td>23.0</td>\n",
       "      <td>25.00</td>\n",
       "      <td>30.0</td>\n",
       "    </tr>\n",
       "    <tr>\n",
       "      <th>GK</th>\n",
       "      <td>42.0</td>\n",
       "      <td>29.071429</td>\n",
       "      <td>4.517677</td>\n",
       "      <td>20.0</td>\n",
       "      <td>26.25</td>\n",
       "      <td>28.5</td>\n",
       "      <td>32.75</td>\n",
       "      <td>39.0</td>\n",
       "    </tr>\n",
       "    <tr>\n",
       "      <th>MF</th>\n",
       "      <td>116.0</td>\n",
       "      <td>25.568966</td>\n",
       "      <td>4.493907</td>\n",
       "      <td>16.0</td>\n",
       "      <td>22.00</td>\n",
       "      <td>25.0</td>\n",
       "      <td>29.00</td>\n",
       "      <td>34.0</td>\n",
       "    </tr>\n",
       "    <tr>\n",
       "      <th>MF,DF</th>\n",
       "      <td>11.0</td>\n",
       "      <td>27.545455</td>\n",
       "      <td>4.367233</td>\n",
       "      <td>23.0</td>\n",
       "      <td>25.00</td>\n",
       "      <td>26.0</td>\n",
       "      <td>29.00</td>\n",
       "      <td>36.0</td>\n",
       "    </tr>\n",
       "    <tr>\n",
       "      <th>MF,FW</th>\n",
       "      <td>39.0</td>\n",
       "      <td>23.692308</td>\n",
       "      <td>3.693193</td>\n",
       "      <td>17.0</td>\n",
       "      <td>21.00</td>\n",
       "      <td>23.0</td>\n",
       "      <td>27.00</td>\n",
       "      <td>32.0</td>\n",
       "    </tr>\n",
       "  </tbody>\n",
       "</table>\n",
       "</div>"
      ],
      "text/plain": [
       "       count       mean       std   min    25%   50%    75%   max\n",
       "Pos                                                              \n",
       "DF     185.0  25.675676  3.842370  17.0  23.00  26.0  28.00  36.0\n",
       "DF,FW    4.0  27.500000  6.557439  20.0  25.25  27.0  29.25  36.0\n",
       "DF,MF    5.0  24.400000  3.974921  21.0  21.00  23.0  27.00  30.0\n",
       "FW      83.0  25.313253  4.838685  16.0  21.00  25.0  29.00  36.0\n",
       "FW,DF    2.0  28.500000  3.535534  26.0  27.25  28.5  29.75  31.0\n",
       "FW,MF   59.0  22.762712  3.013412  18.0  20.00  23.0  25.00  30.0\n",
       "GK      42.0  29.071429  4.517677  20.0  26.25  28.5  32.75  39.0\n",
       "MF     116.0  25.568966  4.493907  16.0  22.00  25.0  29.00  34.0\n",
       "MF,DF   11.0  27.545455  4.367233  23.0  25.00  26.0  29.00  36.0\n",
       "MF,FW   39.0  23.692308  3.693193  17.0  21.00  23.0  27.00  32.0"
      ]
     },
     "execution_count": 103,
     "metadata": {},
     "output_type": "execute_result"
    }
   ],
   "source": [
    "age_distribution_by_position = df.groupby('Pos')['Age'].describe()\n",
    "age_distribution_by_position"
   ]
  },
  {
   "cell_type": "markdown",
   "id": "049740e5-0246-485b-aae5-7b242a1a5931",
   "metadata": {},
   "source": [
    "### Relationship between age and disciplinary actions (yellow and red cards)"
   ]
  },
  {
   "cell_type": "code",
   "execution_count": 105,
   "id": "31a01b08-5c72-4e72-9c6a-3c37a725196e",
   "metadata": {},
   "outputs": [
    {
     "data": {
      "text/html": [
       "<div>\n",
       "<style scoped>\n",
       "    .dataframe tbody tr th:only-of-type {\n",
       "        vertical-align: middle;\n",
       "    }\n",
       "\n",
       "    .dataframe tbody tr th {\n",
       "        vertical-align: top;\n",
       "    }\n",
       "\n",
       "    .dataframe thead th {\n",
       "        text-align: right;\n",
       "    }\n",
       "</style>\n",
       "<table border=\"1\" class=\"dataframe\">\n",
       "  <thead>\n",
       "    <tr style=\"text-align: right;\">\n",
       "      <th></th>\n",
       "      <th>Age</th>\n",
       "      <th>CrdY</th>\n",
       "      <th>CrdR</th>\n",
       "    </tr>\n",
       "  </thead>\n",
       "  <tbody>\n",
       "    <tr>\n",
       "      <th>Age</th>\n",
       "      <td>1.000000</td>\n",
       "      <td>0.142529</td>\n",
       "      <td>0.042316</td>\n",
       "    </tr>\n",
       "    <tr>\n",
       "      <th>CrdY</th>\n",
       "      <td>0.142529</td>\n",
       "      <td>1.000000</td>\n",
       "      <td>0.292004</td>\n",
       "    </tr>\n",
       "    <tr>\n",
       "      <th>CrdR</th>\n",
       "      <td>0.042316</td>\n",
       "      <td>0.292004</td>\n",
       "      <td>1.000000</td>\n",
       "    </tr>\n",
       "  </tbody>\n",
       "</table>\n",
       "</div>"
      ],
      "text/plain": [
       "           Age      CrdY      CrdR\n",
       "Age   1.000000  0.142529  0.042316\n",
       "CrdY  0.142529  1.000000  0.292004\n",
       "CrdR  0.042316  0.292004  1.000000"
      ]
     },
     "execution_count": 105,
     "metadata": {},
     "output_type": "execute_result"
    }
   ],
   "source": [
    "age_discipline_correlation = df[['Age', 'CrdY', 'CrdR']].corr()\n",
    "age_discipline_correlation"
   ]
  },
  {
   "cell_type": "markdown",
   "id": "f6bbcea6-a1a2-4f3b-b41d-cb22e0a01312",
   "metadata": {},
   "source": [
    "### Average age for players from different nationalities (Nations)."
   ]
  },
  {
   "cell_type": "code",
   "execution_count": 108,
   "id": "3864d008-601f-4cb2-9581-7c2f0528c426",
   "metadata": {},
   "outputs": [
    {
     "data": {
      "text/plain": [
       "Nation\n",
       "al ALB    19.000\n",
       "ao ANG    27.000\n",
       "ar ARG    27.625\n",
       "at AUT    27.000\n",
       "ba BIH    31.000\n",
       "Name: Age, dtype: float64"
      ]
     },
     "execution_count": 108,
     "metadata": {},
     "output_type": "execute_result"
    }
   ],
   "source": [
    "average_age_by_nationality = df.groupby('Nation')['Age'].mean()\n",
    "\n",
    "average_age_by_nationality.head()"
   ]
  },
  {
   "cell_type": "code",
   "execution_count": null,
   "id": "f6110f22-bfa1-4a23-84f3-b072363bb23e",
   "metadata": {},
   "outputs": [],
   "source": []
  }
 ],
 "metadata": {
  "kernelspec": {
   "display_name": "Python 3 (ipykernel)",
   "language": "python",
   "name": "python3"
  },
  "language_info": {
   "codemirror_mode": {
    "name": "ipython",
    "version": 3
   },
   "file_extension": ".py",
   "mimetype": "text/x-python",
   "name": "python",
   "nbconvert_exporter": "python",
   "pygments_lexer": "ipython3",
   "version": "3.9.7"
  }
 },
 "nbformat": 4,
 "nbformat_minor": 5
}
