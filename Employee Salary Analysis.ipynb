{
 "cells": [
  {
   "cell_type": "markdown",
   "id": "30abcce5-1ac8-4fc1-ab8e-f19f72aa7335",
   "metadata": {},
   "source": [
    "# Employee Salary Analysis"
   ]
  },
  {
   "cell_type": "markdown",
   "id": "cbc88e4d-3490-47ef-b5d2-baee0d1f66b9",
   "metadata": {},
   "source": [
    "Salary dataset encompasses details such as job title, complete job description, the name of the company or employer, and location. This is interconnected with data concerning earnings, including payroll frequency, average salary figures, and the count of employees at each salary tier. The data was obtained from kaggle.com"
   ]
  },
  {
   "cell_type": "markdown",
   "id": "8431bd50-d37f-4ed5-a818-0c6debda4132",
   "metadata": {},
   "source": [
    "### Import LIbraries"
   ]
  },
  {
   "cell_type": "code",
   "execution_count": 2,
   "id": "aa01da3f-9b20-4fc6-8c9f-c383017f7b65",
   "metadata": {},
   "outputs": [],
   "source": [
    "import numpy as np\n",
    "import pandas as pd\n",
    "import matplotlib.pyplot as plt\n",
    "import seaborn as sns\n",
    "%matplotlib inline"
   ]
  },
  {
   "cell_type": "markdown",
   "id": "55b26429-a5ff-4ad0-9c05-6ca804b41497",
   "metadata": {},
   "source": [
    "### Check the Data"
   ]
  },
  {
   "cell_type": "code",
   "execution_count": 3,
   "id": "404112af-6efb-486c-84a7-cc8b9a6c77dd",
   "metadata": {},
   "outputs": [],
   "source": [
    "salary = pd.read_csv('Salaries.csv')"
   ]
  },
  {
   "cell_type": "code",
   "execution_count": 4,
   "id": "6229d030-fe56-40df-9f21-dac0a1488011",
   "metadata": {},
   "outputs": [
    {
     "data": {
      "text/html": [
       "<div>\n",
       "<style scoped>\n",
       "    .dataframe tbody tr th:only-of-type {\n",
       "        vertical-align: middle;\n",
       "    }\n",
       "\n",
       "    .dataframe tbody tr th {\n",
       "        vertical-align: top;\n",
       "    }\n",
       "\n",
       "    .dataframe thead th {\n",
       "        text-align: right;\n",
       "    }\n",
       "</style>\n",
       "<table border=\"1\" class=\"dataframe\">\n",
       "  <thead>\n",
       "    <tr style=\"text-align: right;\">\n",
       "      <th></th>\n",
       "      <th>Id</th>\n",
       "      <th>EmployeeName</th>\n",
       "      <th>JobTitle</th>\n",
       "      <th>BasePay</th>\n",
       "      <th>OvertimePay</th>\n",
       "      <th>OtherPay</th>\n",
       "      <th>Benefits</th>\n",
       "      <th>TotalPay</th>\n",
       "      <th>TotalPayBenefits</th>\n",
       "      <th>Year</th>\n",
       "      <th>Notes</th>\n",
       "      <th>Agency</th>\n",
       "      <th>Status</th>\n",
       "    </tr>\n",
       "  </thead>\n",
       "  <tbody>\n",
       "    <tr>\n",
       "      <th>0</th>\n",
       "      <td>1</td>\n",
       "      <td>NATHANIEL FORD</td>\n",
       "      <td>GENERAL MANAGER-METROPOLITAN TRANSIT AUTHORITY</td>\n",
       "      <td>167411.18</td>\n",
       "      <td>0.00</td>\n",
       "      <td>400184.25</td>\n",
       "      <td>NaN</td>\n",
       "      <td>567595.43</td>\n",
       "      <td>567595.43</td>\n",
       "      <td>2011</td>\n",
       "      <td>NaN</td>\n",
       "      <td>San Francisco</td>\n",
       "      <td>NaN</td>\n",
       "    </tr>\n",
       "    <tr>\n",
       "      <th>1</th>\n",
       "      <td>2</td>\n",
       "      <td>GARY JIMENEZ</td>\n",
       "      <td>CAPTAIN III (POLICE DEPARTMENT)</td>\n",
       "      <td>155966.02</td>\n",
       "      <td>245131.88</td>\n",
       "      <td>137811.38</td>\n",
       "      <td>NaN</td>\n",
       "      <td>538909.28</td>\n",
       "      <td>538909.28</td>\n",
       "      <td>2011</td>\n",
       "      <td>NaN</td>\n",
       "      <td>San Francisco</td>\n",
       "      <td>NaN</td>\n",
       "    </tr>\n",
       "    <tr>\n",
       "      <th>2</th>\n",
       "      <td>3</td>\n",
       "      <td>ALBERT PARDINI</td>\n",
       "      <td>CAPTAIN III (POLICE DEPARTMENT)</td>\n",
       "      <td>212739.13</td>\n",
       "      <td>106088.18</td>\n",
       "      <td>16452.60</td>\n",
       "      <td>NaN</td>\n",
       "      <td>335279.91</td>\n",
       "      <td>335279.91</td>\n",
       "      <td>2011</td>\n",
       "      <td>NaN</td>\n",
       "      <td>San Francisco</td>\n",
       "      <td>NaN</td>\n",
       "    </tr>\n",
       "    <tr>\n",
       "      <th>3</th>\n",
       "      <td>4</td>\n",
       "      <td>CHRISTOPHER CHONG</td>\n",
       "      <td>WIRE ROPE CABLE MAINTENANCE MECHANIC</td>\n",
       "      <td>77916.00</td>\n",
       "      <td>56120.71</td>\n",
       "      <td>198306.90</td>\n",
       "      <td>NaN</td>\n",
       "      <td>332343.61</td>\n",
       "      <td>332343.61</td>\n",
       "      <td>2011</td>\n",
       "      <td>NaN</td>\n",
       "      <td>San Francisco</td>\n",
       "      <td>NaN</td>\n",
       "    </tr>\n",
       "    <tr>\n",
       "      <th>4</th>\n",
       "      <td>5</td>\n",
       "      <td>PATRICK GARDNER</td>\n",
       "      <td>DEPUTY CHIEF OF DEPARTMENT,(FIRE DEPARTMENT)</td>\n",
       "      <td>134401.60</td>\n",
       "      <td>9737.00</td>\n",
       "      <td>182234.59</td>\n",
       "      <td>NaN</td>\n",
       "      <td>326373.19</td>\n",
       "      <td>326373.19</td>\n",
       "      <td>2011</td>\n",
       "      <td>NaN</td>\n",
       "      <td>San Francisco</td>\n",
       "      <td>NaN</td>\n",
       "    </tr>\n",
       "  </tbody>\n",
       "</table>\n",
       "</div>"
      ],
      "text/plain": [
       "   Id       EmployeeName                                        JobTitle  \\\n",
       "0   1     NATHANIEL FORD  GENERAL MANAGER-METROPOLITAN TRANSIT AUTHORITY   \n",
       "1   2       GARY JIMENEZ                 CAPTAIN III (POLICE DEPARTMENT)   \n",
       "2   3     ALBERT PARDINI                 CAPTAIN III (POLICE DEPARTMENT)   \n",
       "3   4  CHRISTOPHER CHONG            WIRE ROPE CABLE MAINTENANCE MECHANIC   \n",
       "4   5    PATRICK GARDNER    DEPUTY CHIEF OF DEPARTMENT,(FIRE DEPARTMENT)   \n",
       "\n",
       "     BasePay  OvertimePay   OtherPay  Benefits   TotalPay  TotalPayBenefits  \\\n",
       "0  167411.18         0.00  400184.25       NaN  567595.43         567595.43   \n",
       "1  155966.02    245131.88  137811.38       NaN  538909.28         538909.28   \n",
       "2  212739.13    106088.18   16452.60       NaN  335279.91         335279.91   \n",
       "3   77916.00     56120.71  198306.90       NaN  332343.61         332343.61   \n",
       "4  134401.60      9737.00  182234.59       NaN  326373.19         326373.19   \n",
       "\n",
       "   Year  Notes         Agency  Status  \n",
       "0  2011    NaN  San Francisco     NaN  \n",
       "1  2011    NaN  San Francisco     NaN  \n",
       "2  2011    NaN  San Francisco     NaN  \n",
       "3  2011    NaN  San Francisco     NaN  \n",
       "4  2011    NaN  San Francisco     NaN  "
      ]
     },
     "execution_count": 4,
     "metadata": {},
     "output_type": "execute_result"
    }
   ],
   "source": [
    "salary.head()"
   ]
  },
  {
   "cell_type": "code",
   "execution_count": 12,
   "id": "54f746ba-b2ba-4810-883f-d3b3809a7ca8",
   "metadata": {},
   "outputs": [
    {
     "name": "stdout",
     "output_type": "stream",
     "text": [
      "<class 'pandas.core.frame.DataFrame'>\n",
      "RangeIndex: 148654 entries, 0 to 148653\n",
      "Data columns (total 13 columns):\n",
      " #   Column            Non-Null Count   Dtype  \n",
      "---  ------            --------------   -----  \n",
      " 0   Id                148654 non-null  int64  \n",
      " 1   EmployeeName      148654 non-null  object \n",
      " 2   JobTitle          148654 non-null  object \n",
      " 3   BasePay           148045 non-null  float64\n",
      " 4   OvertimePay       148650 non-null  float64\n",
      " 5   OtherPay          148650 non-null  float64\n",
      " 6   Benefits          112491 non-null  float64\n",
      " 7   TotalPay          148654 non-null  float64\n",
      " 8   TotalPayBenefits  148654 non-null  float64\n",
      " 9   Year              148654 non-null  int64  \n",
      " 10  Notes             0 non-null       float64\n",
      " 11  Agency            148654 non-null  object \n",
      " 12  Status            0 non-null       float64\n",
      "dtypes: float64(8), int64(2), object(3)\n",
      "memory usage: 14.7+ MB\n"
     ]
    }
   ],
   "source": [
    "salary.info()"
   ]
  },
  {
   "cell_type": "code",
   "execution_count": 9,
   "id": "9c45e23c-dd1f-45fc-bf9c-09631a01d4a4",
   "metadata": {},
   "outputs": [
    {
     "data": {
      "text/html": [
       "<div>\n",
       "<style scoped>\n",
       "    .dataframe tbody tr th:only-of-type {\n",
       "        vertical-align: middle;\n",
       "    }\n",
       "\n",
       "    .dataframe tbody tr th {\n",
       "        vertical-align: top;\n",
       "    }\n",
       "\n",
       "    .dataframe thead th {\n",
       "        text-align: right;\n",
       "    }\n",
       "</style>\n",
       "<table border=\"1\" class=\"dataframe\">\n",
       "  <thead>\n",
       "    <tr style=\"text-align: right;\">\n",
       "      <th></th>\n",
       "      <th>Id</th>\n",
       "      <th>BasePay</th>\n",
       "      <th>OvertimePay</th>\n",
       "      <th>OtherPay</th>\n",
       "      <th>Benefits</th>\n",
       "      <th>TotalPay</th>\n",
       "      <th>TotalPayBenefits</th>\n",
       "      <th>Year</th>\n",
       "      <th>Notes</th>\n",
       "      <th>Status</th>\n",
       "    </tr>\n",
       "  </thead>\n",
       "  <tbody>\n",
       "    <tr>\n",
       "      <th>count</th>\n",
       "      <td>148654.000000</td>\n",
       "      <td>148045.000000</td>\n",
       "      <td>148650.000000</td>\n",
       "      <td>148650.000000</td>\n",
       "      <td>112491.000000</td>\n",
       "      <td>148654.000000</td>\n",
       "      <td>148654.000000</td>\n",
       "      <td>148654.000000</td>\n",
       "      <td>0.0</td>\n",
       "      <td>0.0</td>\n",
       "    </tr>\n",
       "    <tr>\n",
       "      <th>mean</th>\n",
       "      <td>74327.500000</td>\n",
       "      <td>66325.448841</td>\n",
       "      <td>5066.059886</td>\n",
       "      <td>3648.767297</td>\n",
       "      <td>25007.893151</td>\n",
       "      <td>74768.321972</td>\n",
       "      <td>93692.554811</td>\n",
       "      <td>2012.522643</td>\n",
       "      <td>NaN</td>\n",
       "      <td>NaN</td>\n",
       "    </tr>\n",
       "    <tr>\n",
       "      <th>std</th>\n",
       "      <td>42912.857795</td>\n",
       "      <td>42764.635495</td>\n",
       "      <td>11454.380559</td>\n",
       "      <td>8056.601866</td>\n",
       "      <td>15402.215858</td>\n",
       "      <td>50517.005274</td>\n",
       "      <td>62793.533483</td>\n",
       "      <td>1.117538</td>\n",
       "      <td>NaN</td>\n",
       "      <td>NaN</td>\n",
       "    </tr>\n",
       "    <tr>\n",
       "      <th>min</th>\n",
       "      <td>1.000000</td>\n",
       "      <td>-166.010000</td>\n",
       "      <td>-0.010000</td>\n",
       "      <td>-7058.590000</td>\n",
       "      <td>-33.890000</td>\n",
       "      <td>-618.130000</td>\n",
       "      <td>-618.130000</td>\n",
       "      <td>2011.000000</td>\n",
       "      <td>NaN</td>\n",
       "      <td>NaN</td>\n",
       "    </tr>\n",
       "    <tr>\n",
       "      <th>25%</th>\n",
       "      <td>37164.250000</td>\n",
       "      <td>33588.200000</td>\n",
       "      <td>0.000000</td>\n",
       "      <td>0.000000</td>\n",
       "      <td>11535.395000</td>\n",
       "      <td>36168.995000</td>\n",
       "      <td>44065.650000</td>\n",
       "      <td>2012.000000</td>\n",
       "      <td>NaN</td>\n",
       "      <td>NaN</td>\n",
       "    </tr>\n",
       "    <tr>\n",
       "      <th>50%</th>\n",
       "      <td>74327.500000</td>\n",
       "      <td>65007.450000</td>\n",
       "      <td>0.000000</td>\n",
       "      <td>811.270000</td>\n",
       "      <td>28628.620000</td>\n",
       "      <td>71426.610000</td>\n",
       "      <td>92404.090000</td>\n",
       "      <td>2013.000000</td>\n",
       "      <td>NaN</td>\n",
       "      <td>NaN</td>\n",
       "    </tr>\n",
       "    <tr>\n",
       "      <th>75%</th>\n",
       "      <td>111490.750000</td>\n",
       "      <td>94691.050000</td>\n",
       "      <td>4658.175000</td>\n",
       "      <td>4236.065000</td>\n",
       "      <td>35566.855000</td>\n",
       "      <td>105839.135000</td>\n",
       "      <td>132876.450000</td>\n",
       "      <td>2014.000000</td>\n",
       "      <td>NaN</td>\n",
       "      <td>NaN</td>\n",
       "    </tr>\n",
       "    <tr>\n",
       "      <th>max</th>\n",
       "      <td>148654.000000</td>\n",
       "      <td>319275.010000</td>\n",
       "      <td>245131.880000</td>\n",
       "      <td>400184.250000</td>\n",
       "      <td>96570.660000</td>\n",
       "      <td>567595.430000</td>\n",
       "      <td>567595.430000</td>\n",
       "      <td>2014.000000</td>\n",
       "      <td>NaN</td>\n",
       "      <td>NaN</td>\n",
       "    </tr>\n",
       "  </tbody>\n",
       "</table>\n",
       "</div>"
      ],
      "text/plain": [
       "                  Id        BasePay    OvertimePay       OtherPay  \\\n",
       "count  148654.000000  148045.000000  148650.000000  148650.000000   \n",
       "mean    74327.500000   66325.448841    5066.059886    3648.767297   \n",
       "std     42912.857795   42764.635495   11454.380559    8056.601866   \n",
       "min         1.000000    -166.010000      -0.010000   -7058.590000   \n",
       "25%     37164.250000   33588.200000       0.000000       0.000000   \n",
       "50%     74327.500000   65007.450000       0.000000     811.270000   \n",
       "75%    111490.750000   94691.050000    4658.175000    4236.065000   \n",
       "max    148654.000000  319275.010000  245131.880000  400184.250000   \n",
       "\n",
       "            Benefits       TotalPay  TotalPayBenefits           Year  Notes  \\\n",
       "count  112491.000000  148654.000000     148654.000000  148654.000000    0.0   \n",
       "mean    25007.893151   74768.321972      93692.554811    2012.522643    NaN   \n",
       "std     15402.215858   50517.005274      62793.533483       1.117538    NaN   \n",
       "min       -33.890000    -618.130000       -618.130000    2011.000000    NaN   \n",
       "25%     11535.395000   36168.995000      44065.650000    2012.000000    NaN   \n",
       "50%     28628.620000   71426.610000      92404.090000    2013.000000    NaN   \n",
       "75%     35566.855000  105839.135000     132876.450000    2014.000000    NaN   \n",
       "max     96570.660000  567595.430000     567595.430000    2014.000000    NaN   \n",
       "\n",
       "       Status  \n",
       "count     0.0  \n",
       "mean      NaN  \n",
       "std       NaN  \n",
       "min       NaN  \n",
       "25%       NaN  \n",
       "50%       NaN  \n",
       "75%       NaN  \n",
       "max       NaN  "
      ]
     },
     "execution_count": 9,
     "metadata": {},
     "output_type": "execute_result"
    }
   ],
   "source": [
    "salary.describe()"
   ]
  },
  {
   "cell_type": "markdown",
   "id": "266ed013-ebf3-4ae3-ba33-217039b1c72a",
   "metadata": {},
   "source": [
    "### Drop Unnecessary columns"
   ]
  },
  {
   "cell_type": "code",
   "execution_count": 114,
   "id": "117a7d8a-3554-45bd-9682-c81f27e1e72b",
   "metadata": {},
   "outputs": [],
   "source": [
    "salary.drop('Notes',axis = 1, inplace = True)"
   ]
  },
  {
   "cell_type": "code",
   "execution_count": 115,
   "id": "4773e07e-e439-4f2d-a351-1c6cf9819e3a",
   "metadata": {},
   "outputs": [],
   "source": [
    "salary.drop('Status',axis = 1, inplace = True)"
   ]
  },
  {
   "cell_type": "markdown",
   "id": "c037b392-235d-4afd-b0fd-8569dc2ef596",
   "metadata": {},
   "source": [
    "Notes and status columns has been dropped because it is non-null"
   ]
  },
  {
   "cell_type": "markdown",
   "id": "3fdf3f8a-424d-4eb1-a112-3b4b0901151d",
   "metadata": {},
   "source": [
    "### Occurrence of Employee Name"
   ]
  },
  {
   "cell_type": "code",
   "execution_count": 20,
   "id": "2f8b9752-d2de-4c24-8782-ecc54c3b092a",
   "metadata": {},
   "outputs": [
    {
     "data": {
      "text/plain": [
       "Kevin Lee                   13\n",
       "Richard Lee                 11\n",
       "Steven Lee                  11\n",
       "William Wong                11\n",
       "Stanley Lee                  9\n",
       "                            ..\n",
       "Jeffrey Skover               1\n",
       "Ken Dever                    1\n",
       "Kevin Whitfield              1\n",
       "Granville McCollough III     1\n",
       "Joe Lopez                    1\n",
       "Name: EmployeeName, Length: 110811, dtype: int64"
      ]
     },
     "execution_count": 20,
     "metadata": {},
     "output_type": "execute_result"
    }
   ],
   "source": [
    "salary['EmployeeName'].value_counts()"
   ]
  },
  {
   "cell_type": "markdown",
   "id": "4c68641f-b8ae-452a-9613-6aab8dbf0dfc",
   "metadata": {},
   "source": [
    "### Number of unique job titles"
   ]
  },
  {
   "cell_type": "code",
   "execution_count": 33,
   "id": "a91792e5-da75-4a73-a70f-d14f235f5f1a",
   "metadata": {},
   "outputs": [
    {
     "name": "stdout",
     "output_type": "stream",
     "text": [
      "unique job title  = 2159\n"
     ]
    }
   ],
   "source": [
    "Unique_Job = salary['JobTitle'].nunique()\n",
    "print('unique job title  =', Unique_Job)"
   ]
  },
  {
   "cell_type": "markdown",
   "id": "f173238f-af60-4f0e-8137-198a77674a8d",
   "metadata": {},
   "source": [
    "### Total number of job titles that contain \"captain\""
   ]
  },
  {
   "cell_type": "code",
   "execution_count": 36,
   "id": "fd32e56b-26be-4957-89c6-0ad10838b6e1",
   "metadata": {},
   "outputs": [
    {
     "name": "stdout",
     "output_type": "stream",
     "text": [
      "Total number of job titles containing 'captain': 552\n"
     ]
    }
   ],
   "source": [
    "captain_count = salary[salary['JobTitle'].str.contains('captain', case=False)]['JobTitle'].count()\n",
    "\n",
    "print(f\"Total number of job titles containing 'captain': {captain_count}\")"
   ]
  },
  {
   "cell_type": "markdown",
   "id": "005d7b49-7156-4d9c-91ec-0ba4ea60006a",
   "metadata": {},
   "source": [
    "### Employee names from the fire department:"
   ]
  },
  {
   "cell_type": "code",
   "execution_count": 62,
   "id": "daadc73d-ddd6-44a3-8a4a-04e7615d407c",
   "metadata": {},
   "outputs": [
    {
     "name": "stdout",
     "output_type": "stream",
     "text": [
      "Employee names from the fire department:\n",
      "['PATRICK GARDNER', 'ALSON LEE', 'MICHAEL MORRIS', 'JOANNE HAYES-WHITE', 'ARTHUR KENNEY', 'DAVID FRANKLIN', 'MARTY ROSS', 'VICTOR WYRSCH', 'RAYMOND GUZMAN', 'MONICA FIELDS', 'JOSE VELO', 'BRENDAN WARD', 'MICHAEL THOMPSON', 'THOMAS ABBOTT', 'THOMAS SIRAGUSA', 'BRYAN RUBENSTEIN', 'KIRK RICHARDSON', 'CHARLES CRANE', 'ROBERT POSTEL', 'RICHARD BUSALACCHI', 'KEVIN BURKE', 'EDUARDO GONZALEZ', 'LORRIE KALOS', 'MICHAEL BRYANT', 'MARK GONZALES', 'REX HALE', 'KEVIN SMITH', 'KEVIN TAYLOR', 'SAMSON LAI', 'KHAIRUL ALI', 'JOHN HICKEY', 'ZACHARY PUMPHREY', 'MICHAEL KEARNEY', 'MATTHEW MCNAUGHTON', 'DENNIS SUTTER', 'ROBERT SERRANO', 'JAMES VANNUCCHI', 'JAMES BLAKE', 'RUDY CASTELLANOS', 'MARK JOHNSON', 'RAEMONA WILLIAMS', 'DENISE NEWMAN', 'JOHN CREMEN', 'FRANK KOSTA', 'VINCENT NOLAN', 'CHERISH MURDOCK', 'RONALD LEWIN', 'GERALD SCULLION', 'ANTHONY SMERDEL', 'AUDRY LEE', 'AARON STEVENSON', 'JAMES BARDEN']\n"
     ]
    }
   ],
   "source": [
    "salary['Department'] = salary['JobTitle'].str.extract(r'\\((.*?)\\)')\n",
    "fire_department_employees = salary[salary['Department'] == 'FIRE DEPARTMENT']['EmployeeName'].tolist()\n",
    "print(f\"Employee names from the fire department:\\n{fire_department_employees}\")"
   ]
  },
  {
   "cell_type": "markdown",
   "id": "de67e6b2-9094-47c8-85ce-7be3c44b19f5",
   "metadata": {},
   "source": [
    "### minimum, maximum and average basepay"
   ]
  },
  {
   "cell_type": "code",
   "execution_count": 70,
   "id": "2056af52-fe51-4df2-b993-9d70bfcc3a58",
   "metadata": {},
   "outputs": [
    {
     "name": "stdout",
     "output_type": "stream",
     "text": [
      "minimum basepay = -166.01\n",
      "maxmum basepay = 319275.01\n",
      "average basepay = 66325.44884050643\n"
     ]
    }
   ],
   "source": [
    "minimum_basepay = salary['BasePay'].min()\n",
    "maxmum_basepay = salary['BasePay'].max()\n",
    "average_basepay = salary['BasePay'].mean()`\n",
    "print('minimum basepay =', minimum_basepay)\n",
    "print('maxmum basepay =', maxmum_basepay)\n",
    "print('average basepay =',average_basepay)"
   ]
  },
  {
   "cell_type": "markdown",
   "id": "c6ac200b-7fca-43a9-b85c-0318d1e12dbc",
   "metadata": {},
   "source": [
    "### Replace \"Not provided\" in employeename column with NAN"
   ]
  },
  {
   "cell_type": "code",
   "execution_count": 111,
   "id": "e1776b1d-7210-4061-8689-8721f3cf0e7f",
   "metadata": {
    "tags": []
   },
   "outputs": [],
   "source": [
    "salary['EmployeeName'].replace(\"Not provided\", np.nan, inplace=True)"
   ]
  },
  {
   "cell_type": "markdown",
   "id": "f2f288c9-e66c-4e53-bd6b-6ba353bfca54",
   "metadata": {},
   "source": [
    "Employee name with 'Not provided' has been replaced with nan"
   ]
  },
  {
   "cell_type": "markdown",
   "id": "de69eb0b-e805-4e8a-a386-4361a85122b0",
   "metadata": {},
   "source": [
    "### Drop rows having 5 missing values"
   ]
  },
  {
   "cell_type": "code",
   "execution_count": 112,
   "id": "8a5440d0-5130-4056-95a8-d793c8f84131",
   "metadata": {},
   "outputs": [],
   "source": [
    "salary.dropna(thresh=7, inplace=True)"
   ]
  },
  {
   "cell_type": "markdown",
   "id": "df99a2e5-15e8-405d-9d5f-214046f584c5",
   "metadata": {},
   "source": [
    "###  Job title of ALBERT PARDINI"
   ]
  },
  {
   "cell_type": "code",
   "execution_count": 96,
   "id": "ce616805-9ab4-4436-b655-5e45ecb90b4c",
   "metadata": {},
   "outputs": [
    {
     "name": "stdout",
     "output_type": "stream",
     "text": [
      "Job title for ALBERT PARDINI is  CAPTAIN III (POLICE DEPARTMENT)\n"
     ]
    }
   ],
   "source": [
    "albert_job_title = salary[salary['EmployeeName'] == 'ALBERT PARDINI']['JobTitle'].values[0]\n",
    "print('Job title for ALBERT PARDINI is ', albert_job_title)"
   ]
  },
  {
   "cell_type": "markdown",
   "id": "160de51a-767c-4b43-ad99-b63847e4dfd3",
   "metadata": {},
   "source": [
    "### How much ALBERT PARDINI makes including benefits"
   ]
  },
  {
   "cell_type": "code",
   "execution_count": null,
   "id": "3b3edb15-9c82-47e4-8614-499818fe468e",
   "metadata": {},
   "outputs": [
    {
     "data": {
      "text/plain": [
       "335279.91"
      ]
     },
     "execution_count": 83,
     "metadata": {},
     "output_type": "execute_result"
    }
   ],
   "source": [
    "albert_total_pay_benefits = salary[salary['EmployeeName'] == 'ALBERT PARDINI']['TotalPayBenefits'].values[0]\n",
    "albert_total_pay_benefits"
   ]
  },
  {
   "cell_type": "markdown",
   "id": "6ef41da3-7df7-4db0-86ea-3d6b1ca0800e",
   "metadata": {},
   "source": [
    "ALBERT PARDIN makes 335279.91 total pay with benefits"
   ]
  },
  {
   "cell_type": "markdown",
   "id": "fbc3fcc6-980b-492f-84ab-75b6c5acad77",
   "metadata": {},
   "source": [
    "### The name of the person with the highest basepay"
   ]
  },
  {
   "cell_type": "code",
   "execution_count": 103,
   "id": "583ba809-3198-4ce2-9df5-b325438ae1f3",
   "metadata": {},
   "outputs": [
    {
     "name": "stdout",
     "output_type": "stream",
     "text": [
      "Gregory P Suhr has the highest pay\n"
     ]
    }
   ],
   "source": [
    "highest_basepay_person = salary.loc[salary['BasePay'].idxmax()]['EmployeeName']\n",
    "print(highest_basepay_person ,'has the highest pay')"
   ]
  },
  {
   "cell_type": "markdown",
   "id": "8c633ee8-2c7f-4953-8665-315ce4177bd9",
   "metadata": {},
   "source": [
    "### The average basepay of all employees per job title"
   ]
  },
  {
   "cell_type": "code",
   "execution_count": 86,
   "id": "89a95afa-d666-4aaa-8f9a-a96392a2c2ad",
   "metadata": {},
   "outputs": [
    {
     "data": {
      "text/plain": [
       "JobTitle\n",
       "ACCOUNT CLERK                                     43300.806506\n",
       "ACCOUNTANT                                        46643.172000\n",
       "ACCOUNTANT INTERN                                 28732.663958\n",
       "ACPO,JuvP, Juv Prob (SFERS)                       62290.780000\n",
       "ACUPUNCTURIST                                     66374.400000\n",
       "                                                      ...     \n",
       "X-RAY LABORATORY AIDE                             47664.773077\n",
       "X-Ray Laboratory Aide                             46086.387100\n",
       "YOUTH COMMISSION ADVISOR, BOARD OF SUPERVISORS    52609.910000\n",
       "Youth Comm Advisor                                39077.957500\n",
       "ZOO CURATOR                                       43148.000000\n",
       "Name: BasePay, Length: 2158, dtype: float64"
      ]
     },
     "execution_count": 86,
     "metadata": {},
     "output_type": "execute_result"
    }
   ],
   "source": [
    "average_basepay_per_job = salary.groupby('JobTitle')['BasePay'].mean()\n",
    "average_basepay_per_job "
   ]
  },
  {
   "cell_type": "markdown",
   "id": "9ab14981-c5a8-4c45-91cf-b00cd439fed5",
   "metadata": {},
   "source": [
    "### The average basepay of all employees having job title Accountant"
   ]
  },
  {
   "cell_type": "code",
   "execution_count": 105,
   "id": "451749fb-241e-443e-9628-076e15be4737",
   "metadata": {},
   "outputs": [
    {
     "data": {
      "text/plain": [
       "46643.172"
      ]
     },
     "execution_count": 105,
     "metadata": {},
     "output_type": "execute_result"
    }
   ],
   "source": [
    "average_basepay_accountant = salary[salary['JobTitle'] == 'ACCOUNTANT']['BasePay'].mean()\n",
    "average_basepay_accountant"
   ]
  },
  {
   "cell_type": "markdown",
   "id": "50e0f624-a16b-4db9-8f9a-96a7fb9355a8",
   "metadata": {},
   "source": [
    "### Five most common jobs"
   ]
  },
  {
   "cell_type": "code",
   "execution_count": 104,
   "id": "4e154863-c58a-47b6-84f4-0cfb6a305d55",
   "metadata": {},
   "outputs": [
    {
     "name": "stdout",
     "output_type": "stream",
     "text": [
      "This are the five most common jobs ['Transit Operator', 'Special Nurse', 'Registered Nurse', 'Public Svc Aide-Public Works', 'Police Officer 3']\n"
     ]
    }
   ],
   "source": [
    "most_common_jobs = salary['JobTitle'].value_counts().head(5).index.tolist()\n",
    "print('This are the five most common jobs', most_common_jobs)"
   ]
  },
  {
   "cell_type": "code",
   "execution_count": 136,
   "id": "18d736fb-2bf5-4edd-af6f-cb7e68cf79a3",
   "metadata": {},
   "outputs": [
    {
     "data": {
      "text/plain": [
       "Text(0, 0.5, 'Job count')"
      ]
     },
     "execution_count": 136,
     "metadata": {},
     "output_type": "execute_result"
    },
    {
     "data": {
      "image/png": "[encoded data removed]",
      "text/plain": [
       "<Figure size 720x432 with 1 Axes>"
      ]
     },
     "metadata": {
      "needs_background": "light"
     },
     "output_type": "display_data"
    }
   ],
   "source": [
    "plt.figure(figsize=(10, 6))\n",
    "sns.barplot(x=salary['JobTitle'].value_counts().head().index, y=salary['JobTitle'].value_counts().head(), palette='viridis')\n",
    "plt.title('Top 5 Most Common Jobs')\n",
    "plt.xlabel('Job title')\n",
    "plt.ylabel('Job count')"
   ]
  },
  {
   "cell_type": "markdown",
   "id": "aa3428a4-732f-4e67-bfe8-604ebf7b5a66",
   "metadata": {},
   "source": [
    "### Replace empty rows in benefit with zero"
   ]
  },
  {
   "cell_type": "code",
   "execution_count": 109,
   "id": "804e7a30-ad7b-4593-bcc3-b97bd93e09df",
   "metadata": {},
   "outputs": [],
   "source": [
    "salary['Benefits'].fillna(0, inplace=True)"
   ]
  },
  {
   "cell_type": "markdown",
   "id": "54a9b58d-ad54-418c-8092-ca920af1f2ef",
   "metadata": {},
   "source": [
    "Empty rows in Benefits columns has been replaced with 0"
   ]
  },
  {
   "cell_type": "code",
   "execution_count": 137,
   "id": "fe4a8c2d-8be9-4075-8304-36524d1478d3",
   "metadata": {},
   "outputs": [
    {
     "data": {
      "text/html": [
       "<div>\n",
       "<style scoped>\n",
       "    .dataframe tbody tr th:only-of-type {\n",
       "        vertical-align: middle;\n",
       "    }\n",
       "\n",
       "    .dataframe tbody tr th {\n",
       "        vertical-align: top;\n",
       "    }\n",
       "\n",
       "    .dataframe thead th {\n",
       "        text-align: right;\n",
       "    }\n",
       "</style>\n",
       "<table border=\"1\" class=\"dataframe\">\n",
       "  <thead>\n",
       "    <tr style=\"text-align: right;\">\n",
       "      <th></th>\n",
       "      <th>Id</th>\n",
       "      <th>EmployeeName</th>\n",
       "      <th>JobTitle</th>\n",
       "      <th>BasePay</th>\n",
       "      <th>OvertimePay</th>\n",
       "      <th>OtherPay</th>\n",
       "      <th>Benefits</th>\n",
       "      <th>TotalPay</th>\n",
       "      <th>TotalPayBenefits</th>\n",
       "      <th>Year</th>\n",
       "      <th>Agency</th>\n",
       "    </tr>\n",
       "  </thead>\n",
       "  <tbody>\n",
       "    <tr>\n",
       "      <th>0</th>\n",
       "      <td>1</td>\n",
       "      <td>NATHANIEL FORD</td>\n",
       "      <td>GENERAL MANAGER-METROPOLITAN TRANSIT AUTHORITY</td>\n",
       "      <td>167411.18</td>\n",
       "      <td>0.00</td>\n",
       "      <td>400184.25</td>\n",
       "      <td>0.0</td>\n",
       "      <td>567595.43</td>\n",
       "      <td>567595.43</td>\n",
       "      <td>2011</td>\n",
       "      <td>San Francisco</td>\n",
       "    </tr>\n",
       "    <tr>\n",
       "      <th>1</th>\n",
       "      <td>2</td>\n",
       "      <td>GARY JIMENEZ</td>\n",
       "      <td>CAPTAIN III (POLICE DEPARTMENT)</td>\n",
       "      <td>155966.02</td>\n",
       "      <td>245131.88</td>\n",
       "      <td>137811.38</td>\n",
       "      <td>0.0</td>\n",
       "      <td>538909.28</td>\n",
       "      <td>538909.28</td>\n",
       "      <td>2011</td>\n",
       "      <td>San Francisco</td>\n",
       "    </tr>\n",
       "    <tr>\n",
       "      <th>2</th>\n",
       "      <td>3</td>\n",
       "      <td>ALBERT PARDINI</td>\n",
       "      <td>CAPTAIN III (POLICE DEPARTMENT)</td>\n",
       "      <td>212739.13</td>\n",
       "      <td>106088.18</td>\n",
       "      <td>16452.60</td>\n",
       "      <td>0.0</td>\n",
       "      <td>335279.91</td>\n",
       "      <td>335279.91</td>\n",
       "      <td>2011</td>\n",
       "      <td>San Francisco</td>\n",
       "    </tr>\n",
       "    <tr>\n",
       "      <th>3</th>\n",
       "      <td>4</td>\n",
       "      <td>CHRISTOPHER CHONG</td>\n",
       "      <td>WIRE ROPE CABLE MAINTENANCE MECHANIC</td>\n",
       "      <td>77916.00</td>\n",
       "      <td>56120.71</td>\n",
       "      <td>198306.90</td>\n",
       "      <td>0.0</td>\n",
       "      <td>332343.61</td>\n",
       "      <td>332343.61</td>\n",
       "      <td>2011</td>\n",
       "      <td>San Francisco</td>\n",
       "    </tr>\n",
       "    <tr>\n",
       "      <th>4</th>\n",
       "      <td>5</td>\n",
       "      <td>PATRICK GARDNER</td>\n",
       "      <td>DEPUTY CHIEF OF DEPARTMENT,(FIRE DEPARTMENT)</td>\n",
       "      <td>134401.60</td>\n",
       "      <td>9737.00</td>\n",
       "      <td>182234.59</td>\n",
       "      <td>0.0</td>\n",
       "      <td>326373.19</td>\n",
       "      <td>326373.19</td>\n",
       "      <td>2011</td>\n",
       "      <td>San Francisco</td>\n",
       "    </tr>\n",
       "  </tbody>\n",
       "</table>\n",
       "</div>"
      ],
      "text/plain": [
       "   Id       EmployeeName                                        JobTitle  \\\n",
       "0   1     NATHANIEL FORD  GENERAL MANAGER-METROPOLITAN TRANSIT AUTHORITY   \n",
       "1   2       GARY JIMENEZ                 CAPTAIN III (POLICE DEPARTMENT)   \n",
       "2   3     ALBERT PARDINI                 CAPTAIN III (POLICE DEPARTMENT)   \n",
       "3   4  CHRISTOPHER CHONG            WIRE ROPE CABLE MAINTENANCE MECHANIC   \n",
       "4   5    PATRICK GARDNER    DEPUTY CHIEF OF DEPARTMENT,(FIRE DEPARTMENT)   \n",
       "\n",
       "     BasePay  OvertimePay   OtherPay  Benefits   TotalPay  TotalPayBenefits  \\\n",
       "0  167411.18         0.00  400184.25       0.0  567595.43         567595.43   \n",
       "1  155966.02    245131.88  137811.38       0.0  538909.28         538909.28   \n",
       "2  212739.13    106088.18   16452.60       0.0  335279.91         335279.91   \n",
       "3   77916.00     56120.71  198306.90       0.0  332343.61         332343.61   \n",
       "4  134401.60      9737.00  182234.59       0.0  326373.19         326373.19   \n",
       "\n",
       "   Year         Agency  \n",
       "0  2011  San Francisco  \n",
       "1  2011  San Francisco  \n",
       "2  2011  San Francisco  \n",
       "3  2011  San Francisco  \n",
       "4  2011  San Francisco  "
      ]
     },
     "execution_count": 137,
     "metadata": {},
     "output_type": "execute_result"
    }
   ],
   "source": [
    "salary.head()"
   ]
  },
  {
   "cell_type": "code",
   "execution_count": null,
   "id": "aa7eb350-d5c8-4337-87a9-aa5fe47be5fe",
   "metadata": {},
   "outputs": [],
   "source": [
    " "
   ]
  },
  {
   "cell_type": "code",
   "execution_count": null,
   "id": "ba390d70-1724-48b4-8c39-78d54b28649c",
   "metadata": {},
   "outputs": [],
   "source": []
  }
 ],
 "metadata": {
  "kernelspec": {
   "display_name": "Python 3 (ipykernel)",
   "language": "python",
   "name": "python3"
  },
  "language_info": {
   "codemirror_mode": {
    "name": "ipython",
    "version": 3
   },
   "file_extension": ".py",
   "mimetype": "text/x-python",
   "name": "python",
   "nbconvert_exporter": "python",
   "pygments_lexer": "ipython3",
   "version": "3.9.7"
  }
 },
 "nbformat": 4,
 "nbformat_minor": 5
}
